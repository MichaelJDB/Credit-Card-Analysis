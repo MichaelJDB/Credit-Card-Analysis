{
 "cells": [
  {
   "cell_type": "markdown",
   "id": "2cb6492f",
   "metadata": {},
   "source": [
    "## **Credit Card Churn Analysis and Data Visualitaions** "
   ]
  },
  {
   "cell_type": "markdown",
   "id": "1e24b3d4",
   "metadata": {},
   "source": [
    "### Import data and libraries\n",
    "Before I create the visualisations I need to import the clean data and the necessary libraries."
   ]
  },
  {
   "cell_type": "code",
   "execution_count": 11,
   "id": "795599ca",
   "metadata": {},
   "outputs": [],
   "source": [
    "import pandas as pd\n",
    "import numpy as np\n",
    "import seaborn as sns \n",
    "import plotly.express as px\n",
    "import plotly.graph_objects as go\n",
    "import matplotlib.pyplot as plt\n",
    "import plotly.io as pio\n"
   ]
  },
  {
   "cell_type": "code",
   "execution_count": 12,
   "id": "7c1267d1",
   "metadata": {},
   "outputs": [
    {
     "data": {
      "text/html": [
       "<div>\n",
       "<style scoped>\n",
       "    .dataframe tbody tr th:only-of-type {\n",
       "        vertical-align: middle;\n",
       "    }\n",
       "\n",
       "    .dataframe tbody tr th {\n",
       "        vertical-align: top;\n",
       "    }\n",
       "\n",
       "    .dataframe thead th {\n",
       "        text-align: right;\n",
       "    }\n",
       "</style>\n",
       "<table border=\"1\" class=\"dataframe\">\n",
       "  <thead>\n",
       "    <tr style=\"text-align: right;\">\n",
       "      <th></th>\n",
       "      <th>Clientnum</th>\n",
       "      <th>Attrition Flag</th>\n",
       "      <th>Customer Age</th>\n",
       "      <th>Gender</th>\n",
       "      <th>Dependent Count</th>\n",
       "      <th>Education Level</th>\n",
       "      <th>Marital Status</th>\n",
       "      <th>Income Category</th>\n",
       "      <th>Card Category</th>\n",
       "      <th>Months On Book</th>\n",
       "      <th>...</th>\n",
       "      <th>Credit Limit</th>\n",
       "      <th>Total Revolving Bal</th>\n",
       "      <th>Avg Open To Buy</th>\n",
       "      <th>Total Amt Chng Q4 Q1</th>\n",
       "      <th>Total Trans Amt</th>\n",
       "      <th>Total Trans Ct</th>\n",
       "      <th>Total Ct Chng Q4 Q1</th>\n",
       "      <th>Avg Utilization Ratio</th>\n",
       "      <th>Naive Bayes Classifier Attrition Flag Card Category Contacts Count 12 Mon Dependent Count Education Level Months Inactive 12 Mon 1</th>\n",
       "      <th>Naive Bayes Classifier Attrition Flag Card Category Contacts Count 12 Mon Dependent Count Education Level Months Inactive 12 Mon 2</th>\n",
       "    </tr>\n",
       "  </thead>\n",
       "  <tbody>\n",
       "    <tr>\n",
       "      <th>0</th>\n",
       "      <td>768805383</td>\n",
       "      <td>Existing Customer</td>\n",
       "      <td>45</td>\n",
       "      <td>M</td>\n",
       "      <td>3</td>\n",
       "      <td>High School</td>\n",
       "      <td>Married</td>\n",
       "      <td>$60K - $80K</td>\n",
       "      <td>Blue</td>\n",
       "      <td>39</td>\n",
       "      <td>...</td>\n",
       "      <td>12691.0</td>\n",
       "      <td>777</td>\n",
       "      <td>11914.0</td>\n",
       "      <td>1.335</td>\n",
       "      <td>1144</td>\n",
       "      <td>42</td>\n",
       "      <td>1.625</td>\n",
       "      <td>0.061</td>\n",
       "      <td>0.000093</td>\n",
       "      <td>0.99991</td>\n",
       "    </tr>\n",
       "    <tr>\n",
       "      <th>1</th>\n",
       "      <td>818770008</td>\n",
       "      <td>Existing Customer</td>\n",
       "      <td>49</td>\n",
       "      <td>F</td>\n",
       "      <td>5</td>\n",
       "      <td>Graduate</td>\n",
       "      <td>Single</td>\n",
       "      <td>Less than $40K</td>\n",
       "      <td>Blue</td>\n",
       "      <td>44</td>\n",
       "      <td>...</td>\n",
       "      <td>8256.0</td>\n",
       "      <td>864</td>\n",
       "      <td>7392.0</td>\n",
       "      <td>1.541</td>\n",
       "      <td>1291</td>\n",
       "      <td>33</td>\n",
       "      <td>3.714</td>\n",
       "      <td>0.105</td>\n",
       "      <td>0.000057</td>\n",
       "      <td>0.99994</td>\n",
       "    </tr>\n",
       "    <tr>\n",
       "      <th>2</th>\n",
       "      <td>713982108</td>\n",
       "      <td>Existing Customer</td>\n",
       "      <td>51</td>\n",
       "      <td>M</td>\n",
       "      <td>3</td>\n",
       "      <td>Graduate</td>\n",
       "      <td>Married</td>\n",
       "      <td>$80K - $120K</td>\n",
       "      <td>Blue</td>\n",
       "      <td>36</td>\n",
       "      <td>...</td>\n",
       "      <td>3418.0</td>\n",
       "      <td>0</td>\n",
       "      <td>3418.0</td>\n",
       "      <td>2.594</td>\n",
       "      <td>1887</td>\n",
       "      <td>20</td>\n",
       "      <td>2.333</td>\n",
       "      <td>0.000</td>\n",
       "      <td>0.000021</td>\n",
       "      <td>0.99998</td>\n",
       "    </tr>\n",
       "    <tr>\n",
       "      <th>3</th>\n",
       "      <td>769911858</td>\n",
       "      <td>Existing Customer</td>\n",
       "      <td>40</td>\n",
       "      <td>F</td>\n",
       "      <td>4</td>\n",
       "      <td>High School</td>\n",
       "      <td>Unknown</td>\n",
       "      <td>Less than $40K</td>\n",
       "      <td>Blue</td>\n",
       "      <td>34</td>\n",
       "      <td>...</td>\n",
       "      <td>3313.0</td>\n",
       "      <td>2517</td>\n",
       "      <td>796.0</td>\n",
       "      <td>1.405</td>\n",
       "      <td>1171</td>\n",
       "      <td>20</td>\n",
       "      <td>2.333</td>\n",
       "      <td>0.760</td>\n",
       "      <td>0.000134</td>\n",
       "      <td>0.99987</td>\n",
       "    </tr>\n",
       "    <tr>\n",
       "      <th>4</th>\n",
       "      <td>709106358</td>\n",
       "      <td>Existing Customer</td>\n",
       "      <td>40</td>\n",
       "      <td>M</td>\n",
       "      <td>3</td>\n",
       "      <td>Uneducated</td>\n",
       "      <td>Married</td>\n",
       "      <td>$60K - $80K</td>\n",
       "      <td>Blue</td>\n",
       "      <td>21</td>\n",
       "      <td>...</td>\n",
       "      <td>4716.0</td>\n",
       "      <td>0</td>\n",
       "      <td>4716.0</td>\n",
       "      <td>2.175</td>\n",
       "      <td>816</td>\n",
       "      <td>28</td>\n",
       "      <td>2.500</td>\n",
       "      <td>0.000</td>\n",
       "      <td>0.000022</td>\n",
       "      <td>0.99998</td>\n",
       "    </tr>\n",
       "  </tbody>\n",
       "</table>\n",
       "<p>5 rows × 23 columns</p>\n",
       "</div>"
      ],
      "text/plain": [
       "   Clientnum     Attrition Flag  Customer Age Gender  Dependent Count  \\\n",
       "0  768805383  Existing Customer            45      M                3   \n",
       "1  818770008  Existing Customer            49      F                5   \n",
       "2  713982108  Existing Customer            51      M                3   \n",
       "3  769911858  Existing Customer            40      F                4   \n",
       "4  709106358  Existing Customer            40      M                3   \n",
       "\n",
       "  Education Level Marital Status Income Category Card Category  \\\n",
       "0     High School        Married     $60K - $80K          Blue   \n",
       "1        Graduate         Single  Less than $40K          Blue   \n",
       "2        Graduate        Married    $80K - $120K          Blue   \n",
       "3     High School        Unknown  Less than $40K          Blue   \n",
       "4      Uneducated        Married     $60K - $80K          Blue   \n",
       "\n",
       "   Months On Book  ...  Credit Limit  Total Revolving Bal  Avg Open To Buy  \\\n",
       "0              39  ...       12691.0                  777          11914.0   \n",
       "1              44  ...        8256.0                  864           7392.0   \n",
       "2              36  ...        3418.0                    0           3418.0   \n",
       "3              34  ...        3313.0                 2517            796.0   \n",
       "4              21  ...        4716.0                    0           4716.0   \n",
       "\n",
       "   Total Amt Chng Q4 Q1  Total Trans Amt  Total Trans Ct  Total Ct Chng Q4 Q1  \\\n",
       "0                 1.335             1144              42                1.625   \n",
       "1                 1.541             1291              33                3.714   \n",
       "2                 2.594             1887              20                2.333   \n",
       "3                 1.405             1171              20                2.333   \n",
       "4                 2.175              816              28                2.500   \n",
       "\n",
       "   Avg Utilization Ratio  \\\n",
       "0                  0.061   \n",
       "1                  0.105   \n",
       "2                  0.000   \n",
       "3                  0.760   \n",
       "4                  0.000   \n",
       "\n",
       "   Naive Bayes Classifier Attrition Flag Card Category Contacts Count 12 Mon Dependent Count Education Level Months Inactive 12 Mon 1  \\\n",
       "0                                           0.000093                                                                                    \n",
       "1                                           0.000057                                                                                    \n",
       "2                                           0.000021                                                                                    \n",
       "3                                           0.000134                                                                                    \n",
       "4                                           0.000022                                                                                    \n",
       "\n",
       "   Naive Bayes Classifier Attrition Flag Card Category Contacts Count 12 Mon Dependent Count Education Level Months Inactive 12 Mon 2  \n",
       "0                                            0.99991                                                                                   \n",
       "1                                            0.99994                                                                                   \n",
       "2                                            0.99998                                                                                   \n",
       "3                                            0.99987                                                                                   \n",
       "4                                            0.99998                                                                                   \n",
       "\n",
       "[5 rows x 23 columns]"
      ]
     },
     "execution_count": 12,
     "metadata": {},
     "output_type": "execute_result"
    }
   ],
   "source": [
    "df = pd.read_csv('../data/BankChurners_Clean.csv')\n",
    "df.head()"
   ]
  },
  {
   "cell_type": "markdown",
   "id": "1e307e8b",
   "metadata": {},
   "source": [
    "List all the column names so I can write them correctly when creating visualations. "
   ]
  },
  {
   "cell_type": "code",
   "execution_count": 13,
   "id": "c1cb4a32",
   "metadata": {},
   "outputs": [
    {
     "name": "stdout",
     "output_type": "stream",
     "text": [
      "Index(['Clientnum', 'Attrition Flag', 'Customer Age', 'Gender',\n",
      "       'Dependent Count', 'Education Level', 'Marital Status',\n",
      "       'Income Category', 'Card Category', 'Months On Book',\n",
      "       'Total Relationship Count', 'Months Inactive 12 Mon',\n",
      "       'Contacts Count 12 Mon', 'Credit Limit', 'Total Revolving Bal',\n",
      "       'Avg Open To Buy', 'Total Amt Chng Q4 Q1', 'Total Trans Amt',\n",
      "       'Total Trans Ct', 'Total Ct Chng Q4 Q1', 'Avg Utilization Ratio',\n",
      "       'Naive Bayes Classifier Attrition Flag Card Category Contacts Count 12 Mon Dependent Count Education Level Months Inactive 12 Mon 1',\n",
      "       'Naive Bayes Classifier Attrition Flag Card Category Contacts Count 12 Mon Dependent Count Education Level Months Inactive 12 Mon 2'],\n",
      "      dtype='object')\n"
     ]
    }
   ],
   "source": [
    "print(df.columns)"
   ]
  },
  {
   "cell_type": "markdown",
   "id": "77165b8d",
   "metadata": {},
   "source": [
    "### Summary of Statistic\n",
    "\n",
    "The main aim of the analysis is to find which customers are likely to churn in their credit card services. I will use a range of statistics to locate these."
   ]
  },
  {
   "cell_type": "markdown",
   "id": "5e6cfd86",
   "metadata": {},
   "source": [
    "### Find the lower, upper bound and any outliers of age"
   ]
  },
  {
   "cell_type": "code",
   "execution_count": 14,
   "id": "9373e478",
   "metadata": {},
   "outputs": [
    {
     "name": "stdout",
     "output_type": "stream",
     "text": [
      "Lower bound: 24.5\n",
      "Upper bound: 68.5\n",
      "Outliers:\n",
      " 251    73\n",
      "254    70\n",
      "Name: Customer Age, dtype: int64\n"
     ]
    }
   ],
   "source": [
    "# Select the column\n",
    "s = df['Customer Age']\n",
    "\n",
    "# Calculate quartiles and IQR\n",
    "q1, q3 = s.quantile([0.25, 0.75])\n",
    "iqr = q3 - q1\n",
    "\n",
    "# Define bounds\n",
    "lower_bound = q1 - 1.5 * iqr\n",
    "upper_bound = q3 + 1.5 * iqr\n",
    "\n",
    "# Detect outliers\n",
    "outliers = s[(s < lower_bound) | (s > upper_bound)]\n",
    "\n",
    "print(\"Lower bound:\", lower_bound)\n",
    "print(\"Upper bound:\", upper_bound)\n",
    "print(\"Outliers:\\n\", outliers)\n"
   ]
  },
  {
   "cell_type": "markdown",
   "id": "69d35ad9",
   "metadata": {},
   "source": [
    "Locate the mean age"
   ]
  },
  {
   "cell_type": "code",
   "execution_count": 15,
   "id": "ec91ddce",
   "metadata": {},
   "outputs": [
    {
     "data": {
      "text/html": [
       "<div>\n",
       "<style scoped>\n",
       "    .dataframe tbody tr th:only-of-type {\n",
       "        vertical-align: middle;\n",
       "    }\n",
       "\n",
       "    .dataframe tbody tr th {\n",
       "        vertical-align: top;\n",
       "    }\n",
       "\n",
       "    .dataframe thead th {\n",
       "        text-align: right;\n",
       "    }\n",
       "</style>\n",
       "<table border=\"1\" class=\"dataframe\">\n",
       "  <thead>\n",
       "    <tr style=\"text-align: right;\">\n",
       "      <th></th>\n",
       "      <th>Clientnum</th>\n",
       "      <th>Customer Age</th>\n",
       "      <th>Dependent Count</th>\n",
       "      <th>Months On Book</th>\n",
       "      <th>Total Relationship Count</th>\n",
       "      <th>Months Inactive 12 Mon</th>\n",
       "      <th>Contacts Count 12 Mon</th>\n",
       "      <th>Credit Limit</th>\n",
       "      <th>Total Revolving Bal</th>\n",
       "      <th>Avg Open To Buy</th>\n",
       "      <th>Total Amt Chng Q4 Q1</th>\n",
       "      <th>Total Trans Amt</th>\n",
       "      <th>Total Trans Ct</th>\n",
       "      <th>Total Ct Chng Q4 Q1</th>\n",
       "      <th>Avg Utilization Ratio</th>\n",
       "      <th>Naive Bayes Classifier Attrition Flag Card Category Contacts Count 12 Mon Dependent Count Education Level Months Inactive 12 Mon 1</th>\n",
       "      <th>Naive Bayes Classifier Attrition Flag Card Category Contacts Count 12 Mon Dependent Count Education Level Months Inactive 12 Mon 2</th>\n",
       "    </tr>\n",
       "  </thead>\n",
       "  <tbody>\n",
       "    <tr>\n",
       "      <th>count</th>\n",
       "      <td>1.012700e+04</td>\n",
       "      <td>10127.000000</td>\n",
       "      <td>10127.000000</td>\n",
       "      <td>10127.000000</td>\n",
       "      <td>10127.000000</td>\n",
       "      <td>10127.000000</td>\n",
       "      <td>10127.000000</td>\n",
       "      <td>10127.000000</td>\n",
       "      <td>10127.000000</td>\n",
       "      <td>10127.000000</td>\n",
       "      <td>10127.000000</td>\n",
       "      <td>10127.000000</td>\n",
       "      <td>10127.000000</td>\n",
       "      <td>10127.000000</td>\n",
       "      <td>10127.000000</td>\n",
       "      <td>10127.000000</td>\n",
       "      <td>10127.000000</td>\n",
       "    </tr>\n",
       "    <tr>\n",
       "      <th>mean</th>\n",
       "      <td>7.391776e+08</td>\n",
       "      <td>46.325960</td>\n",
       "      <td>2.346203</td>\n",
       "      <td>35.928409</td>\n",
       "      <td>3.812580</td>\n",
       "      <td>2.341167</td>\n",
       "      <td>2.455317</td>\n",
       "      <td>8631.953698</td>\n",
       "      <td>1162.814061</td>\n",
       "      <td>7469.139637</td>\n",
       "      <td>0.759941</td>\n",
       "      <td>4404.086304</td>\n",
       "      <td>64.858695</td>\n",
       "      <td>0.712222</td>\n",
       "      <td>0.274894</td>\n",
       "      <td>0.159997</td>\n",
       "      <td>0.840003</td>\n",
       "    </tr>\n",
       "    <tr>\n",
       "      <th>std</th>\n",
       "      <td>3.690378e+07</td>\n",
       "      <td>8.016814</td>\n",
       "      <td>1.298908</td>\n",
       "      <td>7.986416</td>\n",
       "      <td>1.554408</td>\n",
       "      <td>1.010622</td>\n",
       "      <td>1.106225</td>\n",
       "      <td>9088.776650</td>\n",
       "      <td>814.987335</td>\n",
       "      <td>9090.685324</td>\n",
       "      <td>0.219207</td>\n",
       "      <td>3397.129254</td>\n",
       "      <td>23.472570</td>\n",
       "      <td>0.238086</td>\n",
       "      <td>0.275691</td>\n",
       "      <td>0.365301</td>\n",
       "      <td>0.365301</td>\n",
       "    </tr>\n",
       "    <tr>\n",
       "      <th>min</th>\n",
       "      <td>7.080821e+08</td>\n",
       "      <td>26.000000</td>\n",
       "      <td>0.000000</td>\n",
       "      <td>13.000000</td>\n",
       "      <td>1.000000</td>\n",
       "      <td>0.000000</td>\n",
       "      <td>0.000000</td>\n",
       "      <td>1438.300000</td>\n",
       "      <td>0.000000</td>\n",
       "      <td>3.000000</td>\n",
       "      <td>0.000000</td>\n",
       "      <td>510.000000</td>\n",
       "      <td>10.000000</td>\n",
       "      <td>0.000000</td>\n",
       "      <td>0.000000</td>\n",
       "      <td>0.000008</td>\n",
       "      <td>0.000420</td>\n",
       "    </tr>\n",
       "    <tr>\n",
       "      <th>25%</th>\n",
       "      <td>7.130368e+08</td>\n",
       "      <td>41.000000</td>\n",
       "      <td>1.000000</td>\n",
       "      <td>31.000000</td>\n",
       "      <td>3.000000</td>\n",
       "      <td>2.000000</td>\n",
       "      <td>2.000000</td>\n",
       "      <td>2555.000000</td>\n",
       "      <td>359.000000</td>\n",
       "      <td>1324.500000</td>\n",
       "      <td>0.631000</td>\n",
       "      <td>2155.500000</td>\n",
       "      <td>45.000000</td>\n",
       "      <td>0.582000</td>\n",
       "      <td>0.023000</td>\n",
       "      <td>0.000099</td>\n",
       "      <td>0.999660</td>\n",
       "    </tr>\n",
       "    <tr>\n",
       "      <th>50%</th>\n",
       "      <td>7.179264e+08</td>\n",
       "      <td>46.000000</td>\n",
       "      <td>2.000000</td>\n",
       "      <td>36.000000</td>\n",
       "      <td>4.000000</td>\n",
       "      <td>2.000000</td>\n",
       "      <td>2.000000</td>\n",
       "      <td>4549.000000</td>\n",
       "      <td>1276.000000</td>\n",
       "      <td>3474.000000</td>\n",
       "      <td>0.736000</td>\n",
       "      <td>3899.000000</td>\n",
       "      <td>67.000000</td>\n",
       "      <td>0.702000</td>\n",
       "      <td>0.176000</td>\n",
       "      <td>0.000181</td>\n",
       "      <td>0.999820</td>\n",
       "    </tr>\n",
       "    <tr>\n",
       "      <th>75%</th>\n",
       "      <td>7.731435e+08</td>\n",
       "      <td>52.000000</td>\n",
       "      <td>3.000000</td>\n",
       "      <td>40.000000</td>\n",
       "      <td>5.000000</td>\n",
       "      <td>3.000000</td>\n",
       "      <td>3.000000</td>\n",
       "      <td>11067.500000</td>\n",
       "      <td>1784.000000</td>\n",
       "      <td>9859.000000</td>\n",
       "      <td>0.859000</td>\n",
       "      <td>4741.000000</td>\n",
       "      <td>81.000000</td>\n",
       "      <td>0.818000</td>\n",
       "      <td>0.503000</td>\n",
       "      <td>0.000337</td>\n",
       "      <td>0.999900</td>\n",
       "    </tr>\n",
       "    <tr>\n",
       "      <th>max</th>\n",
       "      <td>8.283431e+08</td>\n",
       "      <td>73.000000</td>\n",
       "      <td>5.000000</td>\n",
       "      <td>56.000000</td>\n",
       "      <td>6.000000</td>\n",
       "      <td>6.000000</td>\n",
       "      <td>6.000000</td>\n",
       "      <td>34516.000000</td>\n",
       "      <td>2517.000000</td>\n",
       "      <td>34516.000000</td>\n",
       "      <td>3.397000</td>\n",
       "      <td>18484.000000</td>\n",
       "      <td>139.000000</td>\n",
       "      <td>3.714000</td>\n",
       "      <td>0.999000</td>\n",
       "      <td>0.999580</td>\n",
       "      <td>0.999990</td>\n",
       "    </tr>\n",
       "  </tbody>\n",
       "</table>\n",
       "</div>"
      ],
      "text/plain": [
       "          Clientnum  Customer Age  Dependent Count  Months On Book  \\\n",
       "count  1.012700e+04  10127.000000     10127.000000    10127.000000   \n",
       "mean   7.391776e+08     46.325960         2.346203       35.928409   \n",
       "std    3.690378e+07      8.016814         1.298908        7.986416   \n",
       "min    7.080821e+08     26.000000         0.000000       13.000000   \n",
       "25%    7.130368e+08     41.000000         1.000000       31.000000   \n",
       "50%    7.179264e+08     46.000000         2.000000       36.000000   \n",
       "75%    7.731435e+08     52.000000         3.000000       40.000000   \n",
       "max    8.283431e+08     73.000000         5.000000       56.000000   \n",
       "\n",
       "       Total Relationship Count  Months Inactive 12 Mon  \\\n",
       "count              10127.000000            10127.000000   \n",
       "mean                   3.812580                2.341167   \n",
       "std                    1.554408                1.010622   \n",
       "min                    1.000000                0.000000   \n",
       "25%                    3.000000                2.000000   \n",
       "50%                    4.000000                2.000000   \n",
       "75%                    5.000000                3.000000   \n",
       "max                    6.000000                6.000000   \n",
       "\n",
       "       Contacts Count 12 Mon  Credit Limit  Total Revolving Bal  \\\n",
       "count           10127.000000  10127.000000         10127.000000   \n",
       "mean                2.455317   8631.953698          1162.814061   \n",
       "std                 1.106225   9088.776650           814.987335   \n",
       "min                 0.000000   1438.300000             0.000000   \n",
       "25%                 2.000000   2555.000000           359.000000   \n",
       "50%                 2.000000   4549.000000          1276.000000   \n",
       "75%                 3.000000  11067.500000          1784.000000   \n",
       "max                 6.000000  34516.000000          2517.000000   \n",
       "\n",
       "       Avg Open To Buy  Total Amt Chng Q4 Q1  Total Trans Amt  Total Trans Ct  \\\n",
       "count     10127.000000          10127.000000     10127.000000    10127.000000   \n",
       "mean       7469.139637              0.759941      4404.086304       64.858695   \n",
       "std        9090.685324              0.219207      3397.129254       23.472570   \n",
       "min           3.000000              0.000000       510.000000       10.000000   \n",
       "25%        1324.500000              0.631000      2155.500000       45.000000   \n",
       "50%        3474.000000              0.736000      3899.000000       67.000000   \n",
       "75%        9859.000000              0.859000      4741.000000       81.000000   \n",
       "max       34516.000000              3.397000     18484.000000      139.000000   \n",
       "\n",
       "       Total Ct Chng Q4 Q1  Avg Utilization Ratio  \\\n",
       "count         10127.000000           10127.000000   \n",
       "mean              0.712222               0.274894   \n",
       "std               0.238086               0.275691   \n",
       "min               0.000000               0.000000   \n",
       "25%               0.582000               0.023000   \n",
       "50%               0.702000               0.176000   \n",
       "75%               0.818000               0.503000   \n",
       "max               3.714000               0.999000   \n",
       "\n",
       "       Naive Bayes Classifier Attrition Flag Card Category Contacts Count 12 Mon Dependent Count Education Level Months Inactive 12 Mon 1  \\\n",
       "count                                       10127.000000                                                                                    \n",
       "mean                                            0.159997                                                                                    \n",
       "std                                             0.365301                                                                                    \n",
       "min                                             0.000008                                                                                    \n",
       "25%                                             0.000099                                                                                    \n",
       "50%                                             0.000181                                                                                    \n",
       "75%                                             0.000337                                                                                    \n",
       "max                                             0.999580                                                                                    \n",
       "\n",
       "       Naive Bayes Classifier Attrition Flag Card Category Contacts Count 12 Mon Dependent Count Education Level Months Inactive 12 Mon 2  \n",
       "count                                       10127.000000                                                                                   \n",
       "mean                                            0.840003                                                                                   \n",
       "std                                             0.365301                                                                                   \n",
       "min                                             0.000420                                                                                   \n",
       "25%                                             0.999660                                                                                   \n",
       "50%                                             0.999820                                                                                   \n",
       "75%                                             0.999900                                                                                   \n",
       "max                                             0.999990                                                                                   "
      ]
     },
     "execution_count": 15,
     "metadata": {},
     "output_type": "execute_result"
    }
   ],
   "source": [
    "df.describe()"
   ]
  },
  {
   "cell_type": "markdown",
   "id": "14c52d81",
   "metadata": {},
   "source": [
    "46 is the mean age."
   ]
  },
  {
   "cell_type": "markdown",
   "id": "c58dd6b2",
   "metadata": {},
   "source": [
    "# Visualisation 1: "
   ]
  },
  {
   "cell_type": "markdown",
   "id": "642cd7b3",
   "metadata": {},
   "source": [
    "I want to see if there is a pattern with existing and attrited customers with their age. "
   ]
  },
  {
   "cell_type": "code",
   "execution_count": 26,
   "id": "668d4f9f",
   "metadata": {},
   "outputs": [
    {
     "data": {
      "application/vnd.plotly.v1+json": {
       "config": {
        "plotlyServerURL": "https://plot.ly"
       },
       "data": [
        {
         "hovertemplate": "Attrition Flag=Existing Customer<br>Customer Age=%{x}<br>Credit Limit=%{y}<extra></extra>",
         "legendgroup": "Existing Customer",
         "marker": {
          "color": "#636efa",
          "symbol": "circle"
         },
         "mode": "markers",
         "name": "Existing Customer",
         "showlegend": true,
         "type": "scattergl",
         "x": {
          "bdata": "LTEzKCgsMyAlMCpBOCM5LDApPS0vKS82KTs/LC81NSk1Ojc3KjktMzIxJjE4Oy40NEIxMTE4LCo3Jyw1MzksMTIzNzYqLDUsJTEvLyw7NTQ1Kyw5MzEtNS1ALTU4MSk1LCwrNSw+NjkqKjYwMTQyMTUyNzUvNy86NDIqKzk0Lyw1LT8nMzY7KTcvKShEMi81KjAxLCs4Oy4vMjMvOjUtNDIpLTVDOTstMzs1LzExPDIpOSs5NjMvKTU7MCwwLy8rPzo1OzQwKzArLCksMjwsMCwpLS8zMzkpLCs3LCksJzYxLi8sMkk4RjcrLS0oJCsuKTMzKzYwKDktKSoqLzArKTY9PS02LDI3MC08Nz4mLjItLzAjMyQvNCs/PTU1JjU/MS1DMDM0NyI4LC8uKzImNSs1ODk+LjE0NjE6NCk+NigrNTcuKTE9LjIoMzIvKyQvLi40Kyg2NzEtMT8oKSU6NzU5OkA2NSc4NjsqKis3NC4wLTAvKTM3Qyc2Ny8xOSw4LT8sLCgqNi4vQzI3Li8kKDkwOjAwNTI4LDEnJykvLjU8OyY4MjU/Lj0lKik4KD86Oi4lLi4pMDEsJzkwLzg2NjQrOyw4LTcwOClBIjg+JjE6KSEvODMxNxouMColPzIpMC49OyczMC8pMDI4Jy8sPSooQTAsJC0nKBo8Nj47LiwrOS4oNjksLy8yNTU5Mjg0PDEuKi09LDktOR8iIywyITIzODcaKjYsQSY6JzQtKjksJTIzJSQzQSsuKzgrMis2ITopMDczIzItIjcuMDMnKzUmMSU1LiwyOjcsOTkzNS0pMy4oITU/PTUyJT4xOTcyMDwuLzY1ODgpPCgxLiQ5JjI+LCcmLCs2JjcqLjc0JyovKicyOSk0Kyo6KjcmKDAgIRouJyQtMz46KjEtHTwyNS0yLj0uKzYyIyMkKicyJy88Hiw0LSgkQSM2NT4oKTUeLh0lMx8tKywgNSomLDYlMDcrJSIuIDUuJh8mLy84Ly9AJSopQTEuMjIwPicuJy4nLDkoQRovLx82Kyc1LDs1Ii82KjUyLCI9NjEvNR4nLDYuKyMnPSg1NykjPSouLi4aLj43NyAlISohPDstPjM5JiArMzJANTU0PB4rPC5BLDgtJTAlJyk3IjQ2KDQtPTkzPDAiMTUiNigxLi4eOzIxNSouIS49Ki8vNS4aLSQqNCU1QS8mNCQrQScnPCsfN0E2KCYkKykyMCc3LDY5NSknLS42KDAhLD4hJC4qQSozNigoOTk1KBwmJUEpNicaPCMuLzU3MicnJzEtNywxKTEtLEEaJkE6LyE2Iy8jMCQsLCRAIjElQTUgLEE8GzQqHR0mKC8kGis0MTIiNTE1MCAmKzo7MyYhNiUePTE4MyxALicmNSMaICQ3NDQ6JjwrIyYwJiskIicrMCwmPh4nNUAzIDQrKDYiISRBKzUwOTAzGiYjLjAxI0E1NkAnMjYmJzU1IDlBOUFBNzYsOjUhLzMmOSQjNzk4JjYwHi88JSAsNSsmOBo6ISMlGysxJykgOjglJxofJCc1JiUvODcfPiIhJkE5PCcnJzwlKTg8OD4pLDs3GiwlJUEuNTgwIkE3IDo2NCQhPT0rMCQiNSs9NzMmNCQiGzErNCctJTE+JSokOygrHSo/JDUkJBotNz0aKCYgNTQdJhsuOSo+JTkjNzgnQCUiLkEkIzEuGjQmJSE7Iic7MhogKScxHigkOCUzJD4fKiYyOiM6KiAjMz8qJComHTYhPzEsITk0NCcyKyQ3HiQaMDU6IDAwNjsjJSQaNycnLjEgIyc1GiA2JC0xLCBAJR8xIDU+GjEeIikbITgkIxsuMDYmJDggJCMaIDg2NiUmIycwHSEnIysbNB8tIzc9JSY2KC83JSQ1Gi0kPCchMCcmLxoxJh41MSMoHio+OC0jOSE1Mh4lJS0/KxolNTckMyQjIjkdJTUkMUA1NCMyQTU1KCc1JCMlJCdBLSYoIzYoOy4dJh8jOCIqHSAlJCUmPiMkNhs4PDYwIUAjNh0iMCYqNz4hJic4JB05NzM5OBokNSkaMyJBNDYoNy0lHjckJyIvKj0fKjY0HysxLSY5Pyo9JSM5QCccNScjLy8mGiU5JicjJjgkOhxBGhweHzkrJyM0ITUeO0EhNBo0JTgjOiIlNSYmHCcrJCYlJR0zNiMmIS09ITciOiY5Nz88NSM1OiE1OyUyIxwlJx8lJyYjHiEvJSYnIkErMCYkIzo2NSYfIiYlMzU1QSElLzs7IhotNjQvOSIkOR0lNzgnPzEmPCY/KycjIxokJScxOC0iHRxBGjkvNjAkKzYlISYkKBotGiohOTcoID4aOS8vMDEjOT43JDYeLisiNyQsJyIoKiQaKjctPSkjIiUaNjgqHiAoIUAhNDspJh0rJSAkNSUvJBomICUaNyM6IC8gOCJBNysfNjQwNiEeMSQ4NSI1ICc5MCUkJx8fJC8mJyclOjolNi0kNSIgJiUlLzQ2NSExHysnJj46Jx4uJzUiNjYnJCYtHCU5MCEmJCUkNjQ1GyA5Ni0kJyciNjYkJRs3Gjg6Kh4mLyFBISw5Ij8lJyc3OS01JTwdOCUrOh0mPjUaMyczOzg4HyUkGj0aIzU7JSY4JSEmODseOCEfGh01IyM4IyMxJCU6IydBQTM4OjM6Iic2GjUgMSclJi4kITouJzYyKTUkJi0kLSYjMDMlIR8oKz8jHyQiHTctKC42JCUjQDQlLRxBNzcpOSUdPiovLCIlISgzQS4bJSIiIzc8ODQtOB4iJyQgMic9QS0iJSw4JEEaIjM5HiMgPjU3Gh81LSc9HyUpOi05Iyc3KTc0OSgvKicnJCQdOCU9JDMfITJBMDk/MicnJzQlMjsmQTlBJik3HB8nLDc5HCMuQTIfMTIsPyk4NzAjHiU1JUEwJSMjMRo6HTohJC8pLjo1NicxIy8mODgmJT9BJi0aOhowPiguOi8yNS0wKzw4Kzk0OCY1NDoiJDc2JCM1MCUtNiYjJCEcJCI3PSw2JzMvJS84NT46OTYhNh4kPC43Nx83JCIhHjY1OyktMjk/IyM1ISYfJSQ6Jz0iNzIhMD8zNi80IkA+JjQjIzYjIyQhNSUjOy8wOjclOTwyODAoMj0kLhwxLDklOS41NCI3NSU6ISclIBo8JSs4NCIvGjYjNCkkNSo2NSQqGzo7Pzk4Kh0sISMhLhsqNTIwOSI3OjcwLTs1LyshMUExLzMkJC4+Hi4pMjU3MTg/KSIjLCY0NjoaGyEgOi0wJjYoIx8oNDkwMSgtKSQlLDQqPh4yICAxJSokMB0hJCQ4HB8sMzciPSUuLzYyJCUvNkAwIzEqMTU4KSUeLTYuJDA7PCxBLjA1NSklHTEvNSEiHCQeIicgJCUtJh9BP0ErMyU3GyIgMScbHicqNzk1My8aJS03JSQkJy84OCYxJDMaIisvKiY3HD4sHTArMSspKzMlJTEkMkAkLSkvJzM3OSQjJidBMzImJCgoGi4xJjEmJCI0KCQ1KDYiPicyJDgtJCwyNSQbHyQpHDsrKS4zLCggOiUrKTM0PTEkIz8kISFBPSwmKSwtJTNBJTYuKTEzMjA1Ni4vNCspIiExLCQlLkE0MjslKDs0KzAtHikzLjIfMCcyLzUtLiInPjUzIiwxGjRBIzA1JjIuMCQpPC0kMSs6LjIrOR4wMy4uLTQwLysvNyksIyggMicwNDEuJjwwLS8rKTUyOD81IzMsJigwKjI2JjEmMiggMTU5QCIrKjAxOSw/KyE3MjEvIx8yJic0MTEsJCwsIzglMCstNi4sLCY3MjEfMy8eLi01QSwzHDEsNyIyKjU1IDAjLS01Kis3JiczLCo/JzQ5JCo0KCgsKy0iMTUkMDUlLCowPDElOTsuJygxOyRAJzImLTYoND8wLi0wOzc1KDQ7JDspJiwwOSIyKTIxLS8rJyQvKTAuLjQ4KTMaMyk5LDQxNCw/LC8xIy0tJCouMjkuNyYjOTcvJTAxMTA0LCkzLTEvLCo+ICs+Lj4qJzsrNDs8MCg3MCQxKCg/LC0kLSYsIzcoMzAxNi4iLjAtQS0oMigmJDYyKS4sLSguMC8qKzEuKCgxMystKDEtKzIvPx4pJiwyMi4zNSgxNjItLjM/MzweLCEoNDMuNS8qLykuJDg2KictLjAuKi0yMictKjEzMDQxJTAoMS4yMiwvMDEzOy0yLi8uJjMvLzEsKDgtJSorOyouHDc+MSszMC8yOCsxMCkrKicyMjMvKTEqKi0yNTMyQDQtKzkvKjQwLCgyKSorLD0zLjIwMiwqLjQvJzU0Jz81Ni0tNEAvLSk4NCc9OS4mLCg5MjMqMy0tNz8hLik6MyMqLTM/LSQnNDQyPCssNjIsNDEtI0EvODE6NC0yPiwvNC4oLzQuMTIoIDczNCczMiw+KScoLjNAKDIsICsvKy8wLCguMi4rKiszKC8aMiUzMSU2LCssMTAzKSk7JS8oLR0sKTcnJykyNDI0KzM7NDEvKy8vKiM9KjQjMigtLSspQC49LiArIjYtMTEmMy8zKCwoPDEyMywwNSosNDA5LzVBKygoJycwJjMvMC8tQTE9MzAsLTEmKiwuKDIuIzEtODozJywoMTEvQDA0OUE0KiUuNzMjKSktLC46JjIuMy82LzElLTItLSksKTUrQC4lLjAwJiwyNyopODIpMDEpJSwsQTYwKSsuLyovMisxKzQoLi88JjM+NCkwKzMqNjQwKEEvQDI5JzozNDoqPi01NTIsMiYtNzErLyszLzMxNTcyQTMuKjEoLUEuLyw2KDEzQCsmLC4sLD8uKy8qNzwwMjMvLyk3JikoKyQwKS8sMi4vNSwnMy0xNSk0MDIzKy0oMC0sKh0oOjIwMys6LjQsMCc4Lyw0KjcmKi4qQTc5MikuMR82NCssLDM3KjUrMzgsNykwLTRBMTQqMhsqKyUxKjA0LTEyMisqLTcyMjYtLSctNCEoPTIjMjUxLTQoLTIzPDQ2NTUoMi0oJD4jLygtOywmKx8yLS0xKzAvMCgyLTE3LigwMi05LDIqJTYrNC4rLi03MzAsMi43MSgsKSY1KD0tOTA8MUE5Myg3NCwxMTg8MipBKTAvPi44KSsrLTE0LSsxITQoMywtNzAmNDI6NDcwKTAyLjIvQTQ0Iz4xKywrNjctODExLjEkOTQ0LTYxKy4tKyFBOCgoMR0tMy0oJSotLy8xKyswNTgmMyosMj4xKSstMEA1MzghNC4uKDEoKzAyMC4zNC4qMSwuLSU0Lyo7Lik5IzUlKzc0LjEsLisxMCorMzAlKCw6Ly4hLzcwKScuMS4wJSowLSgnKjUxLDQdJC0tKCs7JyY0KiE0LSUqKygrNionLTYvNiwuJis+OzUrLDIfMiY6JS8jID89MDEjJzA1M0ExLCszKyInKC4uKDQ6MTc4Ki0vPiw3KyMxKissOC4yKy06JywtNzEuKyotMC8sLzowLjMyLzUuJzI3LSoyMzAlLSw8Oio9LCsnMiweLy8qOSwtMzk8QCUxLjI4LSs0LzIxMjErPDEqKyorLzg4Ky8sKjEwLCsyIytAKjEuLyY0LysvNikoIS8uMDMwMiMjMzIyLR8qLS01JjcmKzYqPjApMTYzOydBLyo5MzIvOTAvKi00JT4yKCcqQS8xLT4tMi4qKUEkLjoqJh0uOS0vKzRAND0oLTMrMy8nKCYsJi8gNS0pLCcyOD8yKDAsOCkoLSg0MS8qKygtKzApJiwjMS8wLCUvIzMkITMyJzEpMzYoNzAsMystMDIrIjA2LDUnNDMxLjsmLUAxMykpJyk9LyYzLDA1MikwKS83LzMsMTUvMzUxIywqMygvMykrQCo0LicsOTUrLTApMi4zKy8sKS8vLCwsKzEvLCgvLDwpLio2MSo1LSk0LC8sMSUrOi47NiggNSIxPCgsMSwvNC8pMi84KS4nKi02Oy0rKTAnKjAnMDAxKyo/Ki06JzVBNzw8LSozMTAuJSksMC8uPi4sMjEwPjkwJy0aKCshLTEmKyoqMDgnNCwsKSwqMS09KSgzIiomKTUtKykyMy8pNS4uMS8qNikqNDwoMDAuMjY2PDMvMyI8MTMyICgyLS0tQS8zLCsqNzs6PDEqLDg0Njc5Ky84LDYlMS8tMSk2JyZANzIsNzozOjUqLTw3MzIxJjY2NisrOSsrMTMuOC42MyE3KScmLjo6PTMsIxonJiU1NSc4NDMrMzU2JC44KCorKy8xMC8vMTM2KzEoKDAuI0E0LCMtODIlLCMqMC8nMCoiLysyMjYoKCk0KTUwPikyJjIoJygwMTc6KyMoLjA9NSo4KjkoMCoxMCstKDUmJyc7KDYuLCwyJTE1NCU0MScnKigpLi0mNSU0JzIzNiwyLzQ3KSkwJjQlLSkxLxozITQzMR5BKyo5PjA9KzwtKTw/KjAsMyouKiwrMjM0MzwrLTArMiI4LzEvIyoxKSo0NDQwMy4sMTAmLi0hKz0vLTIzNTcoMDxBLi8yKy0uMS83PjcpNjcrLzQtMiwqNTM0NDImMjMwLyQtNTUvMygrMjsxODAiOicvLyUpMjUmKDMpJiosLC8wNjssKyo3MjUhMzo4MDcxQDg8MDEsKCcrNTExKywwLCwwIiwsKSIlMSgkNS43LzQsMyIuJS8kLy45MjUrJDguNzQoKigxLy08Li0qOjUsPTElKyYsPDslMDwnNCo0LCQxKiQwNiAiLjA0LS4kKicrOC1BNio1PzEqKzEsMCw3LjEjLzwtMyk2HDIsLzBBOCspIzAyLS8jOjA1Lic5OTgpNCgtKzs4LDYxJzEsJi45NTQrKDEpMx8xKC04MSQuNi4tJTEpLx8yKC81KzszOSM3KTMwMysnLywqMzgsLy8sMCg4MiUmMS8qNDQ0Mi4oHTIoIzcxNS4yNTovODA3JjQxMCQmLDclMykzKEEuLTExKSkzLicuPzIlISwsLScvNDE7JycpLiIxODQzJTA0LC0rPTMiJjgtLDQeLiIrJTEoLjU4QTIyPSMtMispKjQtJTA7OSgxKycsOTclNiIyMjIxKTQyMi4zKhw6LCgzODMrODA4MDIsNjAiOykiLjExKkErJjQnMCw1LCkvKConKTk8MyE/MTMuKS4iLRspMC0uLy0oLSIsKi8qMzQsLzAyMy8vMicwMSMiOzQ6MzsyMS80JiIvNzc5K0E3NjcnJTcuLDYwLCcpKzIvMyskLy0xMC4rMDU2MCctOC8wNCMsNSsuKCs4MB8pLysnMygyKTgvLCYtLycwNTMmLjosKSoqLSkrJCs0MisjJzs6M0AxNTYqKy4mLyUvOC8rNDQrMSs1KjcpLy4yLSQ3KjMsLy45PTMsLjQjOyssOTI3MCQ3KjA8KiwhMCcgJTswNik7MDM3IzIrLEE1MS04KzEsNCUqKjsvOC4aKi8wLDgrJigwLisxMSouKi8tITI8LTA1NSE0KCkrKCcjLikwJTcvJC8pMCs2PCwxMigxMTMrOyoxLTA5OC4qMTA3PyYtNjs0KzQ0KjUiMyswPiUuMig+Oy4rMioyLTQxPCYvKSM2KyA6OD0yLC4qJyopLT0uIDcxLjwoJzk3LCsvNiIsLiQeJy0qIDU0LTEqOjMsKxsuMC8tLjczKihBMzgpJTAuNyQvLisuOT4nNS4nJyxBNx8uJCUrLicxJzQpLjEuJjE3NCo0NS0yKjA0OTA0OCs+My0tODk8MiwyOR0oMj4xMjE4Lzg/MysxMywuKTE1LS46KTE2NC8oNS41HCszOjItMC8nPi04LjM0LCk0PC8qKjErOS0pLCs4KTErJy4xLDg4OTM8KyUuLDQlLSgzOSg9OTIqKyopMiorOjQoKTstNCsxMzQtKDEvKis0Pyg8JDgtMzEpNykrKjQoJTU4NSYoJCkcKSonMSgyLD42KTknJkA8LiQvLDo1Myk2LictMB85KykwNBsnKDM1LyomMzYoLy0vMjArJykvMyo6JjkqOikhMDw7OCkkNC8qJygyKC4lOSs2JyktLSQyKjshJiw7MikzJCQlJygtLiwqMTcnMCokMysjJTs7OSQtMi43My42MjMpOy8yNR88OzwyKjYqMjA0MjIyMC42JSYqKi0xKSwuJy46LzYzOiQ0LTM2MiUqLy0oMCovNiYrKS0xNjQoNjQ6MygnKigpMi41ODk4Ii4vNTczNCgtJi4vLCgxOC0rMCc+OTAwIi4xKi8pLTkxMjMsKCUuJy0rMDMnLzY1MCMuMSs0Mjc0KDwtLCw5NCozLzA4MC4oLC0sLSw6JjArJDskKDwvJTMqKi00LjYvGjgvJTUuLTA1LCsvMi8oOCsyNxsxMyw4NS0mLTAkKDUoKSs0MDwnJSgiMCwvLS8jKi8vMjMtNDA0Kyc1NCg+NDE1MDsyKTkyKy83Mi4vNTA8KjQsJjMyKT01KTY1IC0wODAuLjw2MS8qLy8sIDIuJiwrNC8yLikuLjMmLC0wJT8uMjMrLzEqIyYlKjIqKywwKS8qNi8rLCwtKDIuJTwyKygeJjUsNCo1LSI4IiMyKDE0MTInISosLS8+NDEqMTM1MTcuIiwnLzEuKh8wNCcrOS4tLS4zMC8jKzkeLyIpJC81NDE0LhooJygrLi46LjI3NDAuMTc0LCopMCsqMTIrNjA5NjgwMS46OyUvKTAkKCYrMCsmNCwoMC4sOSgkKyYkMykrKzcmKiIoIzM1Ky4lLy0yLjIxNi8uLy4qLDUuMzkjLSgoLywwNTQiNyw5KCo3KDQuODE1Nyw2NS4mODUpKz4qOCE5MS4zNC04ODMrKjA7LS0zMSsmLTY5MzAwNTc0IisxMSkrKDYyOCcrLyotMDUqNTIlJyYmKjk5OSs/MC4oNDU5MjEmLDs1NjMtKjAoNy0oITkzNS40KCUqJi8tLC8wKiosLic5Mjg2Mjg9JjcmNzIwISw0LikyKiEqNDstPT8tMSouNTw3MiIqMC4vKjQtLCo2JjMpNCouLjcdPi8wLikpJiY1LTk2LSYuKTM8HzE1IS4rKiguNC0pMTwlMi47MSM0KS0lLy8pMzUrNTMyNi4yMC04LDI2OCshNSw2IjIoLygpLywiOiowJjc7NSk3ODQ6MTg8LSItNiUxKzE0HTIsMy86JzA9JzgqMCo2KTI5Iy0uODk6OjszODIqMSoyGyY0OyEwNSkyIjssPDw0NiktKjU1NSYaLjkgKzA0JjAuJCktMywmMjQsIi4yJiwoMzM4Jy8fMDMvIy4zOTAxKzcxKzA5ODIrOjUwMiotIScoLyYtMDgyNTEaMDM4LjYwOzI0OCorOyczKjYrKCwrODE8MS84LCokODQ7LDc5MC8yNC4iLTErKTUqKy0sLDMmKzA1Jy8qMi4hJSsqOCwoKy0vPi0oMykxPSEtIykwMTQzLSopHjY8NCUsNC0rJywxKTI2JzQzLjAyNDYoLzUjMCwqMy0yNi80LzY0LjcrKiYzLCYuNioeMTYzJSwuLTcyLSksLyYxJzIyLzYuKyoxLTEsOiozNyU8KjIqMDAsLC05MigzIjA5MC8wKS8lLRo6LjEpLio5MDouNTo2KyMuKjUwMjYjKS4pMS8gMi0oLS07MDkqNyslMCIyJCwvLSMmKi0sNi41Ni8rKTAyKiwtLicoKzE0MCwoNi8aISYjPTopKi0tKDkyNS0qNzAsMC02MCgvJzU1HSwoKComMSYsLDQ0Mic1Ki8zOCEkJycvMSswLzgrMyoxLywsNSkxMSoyMzQwLCgqKyoqMz07LjMwLDgqKD0tLy0rKiorKDI1LDEqKzMoOTMxPT4nNCYyKzUqKys5MjApLCwrMy8vJi4pLykxLCwyKjQuKScuLTUqLC4mLicvLi0yKzAyKC4tNTE0Ly8rMSg1LikqMjMsMTM1MTsvMiwwKygpLi8sNCc1MTQuLDQ0MjctMTU8LzYnLis1LDApKTMnKCkyMTEpJDQqMTIxMzMzNi4wKzEzLzczKCguKi4zKykvLzMsLCc1LS8oMi83LDYoMjEnKy0tIjQhKjE3JyguLiwqMi4lOTQ+LTksKigvMy0yLi8rNC4pNDE3LjEpJTMyOSg0LTAnMS0rLTEtNigxKyoxKywtJiwtMykzOCoxKi0yKSwwKDErMyw7MSY0MS8zLjQ5LC8pKiwsLy0yKS0oKzEvMSssKiw0KDY+NDIzJy4tPTMyMjouLiomKCswJi4sMicyKTEqLiw1MzImLTQsIyw5Ky0sLzIsMywoMiYtMTUuOD8oLTQyLTUmLCosNzQwMC8xLy84PS0xLDMsLikzNCcmMykrKDowMCw2LS4lKSsnMzAuJzcsMC4nLSgnLyosLz8xKzcqHys7KTUnOTwzLSk4JzEtLy0oNDMsOB4vKjQuNjE3LzIsKyAoMTwpIC8uMDU0LSUsICQvMTo1LSw2Ji4pMDUnKTYxKTQsISU0Nh8oMSwrOCMoNB0xICwvLS4nLi0eKjczHCwzMCwiLzIuMTgpIygpLjglMyQxIy4tMC4kMSM2MSgpJS49KS8tHyoqMTQnMzQoJikbMjo1Oik1NR8sLy41KCotPR8vLjY8MSktLSwoHyg4Jjg4GyYwLDEkHjM7LTgfMCAuNDAnKysvNTAyNTAzMyczKy8zJiYsIDI8Jjs1NTg8KjA6NzMuLTgiMC0qMSMhKCsdKjMqICsyLCQsLy01KzAlOx8pNTcpNx8wKiI2LiYoLCcqPCMqJSswHzMrKTApMCAxJR80PCMwHy4dJSA0Oh0gNDAhMy4vIDIcLCsyNTozJyosLictKSomJCszNDIsKzAwLS8nLzE6PDUxLB0qLS0gJjIyNTQuPDcsNjo1OyA2ICoqHSstOC4pMjQ0IDQ8LDA0KC0rHiYqMjE6NickODkvGyo5MjI9PCokGzc4IjEgPCc2NSMvNDkvNicyPCkzOCkkMSgxNh0xMjc5Ly0tNycoMS4qMyYsLzgfLR8qMDQtMDU6LSkrMTUyJjcnJiUwIjElLjUwHyg9LSAfKysnLisgMTE2JjwfMR8gOTAsHywxLi8eHys0OTQ3OTMrKTM1MDsiNDo4JiktHy8jKTInITAcMS01JysbKyUvMCsxLjwcNCYyHyMwMzQkOjc9NS8zJiodJS0iMiwqNjwvKi4rLy0tIjIsJjYwHyAqHDEsLzM1MzMmKDI1LyMqKDAbJTwyNDExKi0gHjknMSYkHyMuOCcgNzIgLCgwMCs4KDYkLyk5Jyg7LikpOS0lPTEfKDI4OiYuKzU7MR4zLzssHisrICcmMTAwLjA3KyokKjU4MScpOTgwJjggPCYtNTcuKDIrOzEsHTo1LB8vLDMyOSspKC0qMh0qLjErLS0kNCY7LjgfMycqITM6LzgxHSYuOTY4Mg==",
          "dtype": "i1"
         },
         "xaxis": "x",
         "y": {
          "bdata": "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",
          "dtype": "f8"
         },
         "yaxis": "y"
        },
        {
         "hovertemplate": "Attrition Flag=Attrited Customer<br>Customer Age=%{x}<br>Credit Limit=%{y}<extra></extra>",
         "legendgroup": "Attrited Customer",
         "marker": {
          "color": "#EF553B",
          "symbol": "circle"
         },
         "mode": "markers",
         "name": "Attrited Customer",
         "showlegend": true,
         "type": "scattergl",
         "x": {
          "bdata": "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",
          "dtype": "i1"
         },
         "xaxis": "x",
         "y": {
          "bdata": "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",
          "dtype": "f8"
         },
         "yaxis": "y"
        }
       ],
       "layout": {
        "legend": {
         "title": {
          "text": "Attrition Flag"
         },
         "tracegroupgap": 0
        },
        "template": {
         "data": {
          "bar": [
           {
            "error_x": {
             "color": "#2a3f5f"
            },
            "error_y": {
             "color": "#2a3f5f"
            },
            "marker": {
             "line": {
              "color": "#E5ECF6",
              "width": 0.5
             },
             "pattern": {
              "fillmode": "overlay",
              "size": 10,
              "solidity": 0.2
             }
            },
            "type": "bar"
           }
          ],
          "barpolar": [
           {
            "marker": {
             "line": {
              "color": "#E5ECF6",
              "width": 0.5
             },
             "pattern": {
              "fillmode": "overlay",
              "size": 10,
              "solidity": 0.2
             }
            },
            "type": "barpolar"
           }
          ],
          "carpet": [
           {
            "aaxis": {
             "endlinecolor": "#2a3f5f",
             "gridcolor": "white",
             "linecolor": "white",
             "minorgridcolor": "white",
             "startlinecolor": "#2a3f5f"
            },
            "baxis": {
             "endlinecolor": "#2a3f5f",
             "gridcolor": "white",
             "linecolor": "white",
             "minorgridcolor": "white",
             "startlinecolor": "#2a3f5f"
            },
            "type": "carpet"
           }
          ],
          "choropleth": [
           {
            "colorbar": {
             "outlinewidth": 0,
             "ticks": ""
            },
            "type": "choropleth"
           }
          ],
          "contour": [
           {
            "colorbar": {
             "outlinewidth": 0,
             "ticks": ""
            },
            "colorscale": [
             [
              0,
              "#0d0887"
             ],
             [
              0.1111111111111111,
              "#46039f"
             ],
             [
              0.2222222222222222,
              "#7201a8"
             ],
             [
              0.3333333333333333,
              "#9c179e"
             ],
             [
              0.4444444444444444,
              "#bd3786"
             ],
             [
              0.5555555555555556,
              "#d8576b"
             ],
             [
              0.6666666666666666,
              "#ed7953"
             ],
             [
              0.7777777777777778,
              "#fb9f3a"
             ],
             [
              0.8888888888888888,
              "#fdca26"
             ],
             [
              1,
              "#f0f921"
             ]
            ],
            "type": "contour"
           }
          ],
          "contourcarpet": [
           {
            "colorbar": {
             "outlinewidth": 0,
             "ticks": ""
            },
            "type": "contourcarpet"
           }
          ],
          "heatmap": [
           {
            "colorbar": {
             "outlinewidth": 0,
             "ticks": ""
            },
            "colorscale": [
             [
              0,
              "#0d0887"
             ],
             [
              0.1111111111111111,
              "#46039f"
             ],
             [
              0.2222222222222222,
              "#7201a8"
             ],
             [
              0.3333333333333333,
              "#9c179e"
             ],
             [
              0.4444444444444444,
              "#bd3786"
             ],
             [
              0.5555555555555556,
              "#d8576b"
             ],
             [
              0.6666666666666666,
              "#ed7953"
             ],
             [
              0.7777777777777778,
              "#fb9f3a"
             ],
             [
              0.8888888888888888,
              "#fdca26"
             ],
             [
              1,
              "#f0f921"
             ]
            ],
            "type": "heatmap"
           }
          ],
          "histogram": [
           {
            "marker": {
             "pattern": {
              "fillmode": "overlay",
              "size": 10,
              "solidity": 0.2
             }
            },
            "type": "histogram"
           }
          ],
          "histogram2d": [
           {
            "colorbar": {
             "outlinewidth": 0,
             "ticks": ""
            },
            "colorscale": [
             [
              0,
              "#0d0887"
             ],
             [
              0.1111111111111111,
              "#46039f"
             ],
             [
              0.2222222222222222,
              "#7201a8"
             ],
             [
              0.3333333333333333,
              "#9c179e"
             ],
             [
              0.4444444444444444,
              "#bd3786"
             ],
             [
              0.5555555555555556,
              "#d8576b"
             ],
             [
              0.6666666666666666,
              "#ed7953"
             ],
             [
              0.7777777777777778,
              "#fb9f3a"
             ],
             [
              0.8888888888888888,
              "#fdca26"
             ],
             [
              1,
              "#f0f921"
             ]
            ],
            "type": "histogram2d"
           }
          ],
          "histogram2dcontour": [
           {
            "colorbar": {
             "outlinewidth": 0,
             "ticks": ""
            },
            "colorscale": [
             [
              0,
              "#0d0887"
             ],
             [
              0.1111111111111111,
              "#46039f"
             ],
             [
              0.2222222222222222,
              "#7201a8"
             ],
             [
              0.3333333333333333,
              "#9c179e"
             ],
             [
              0.4444444444444444,
              "#bd3786"
             ],
             [
              0.5555555555555556,
              "#d8576b"
             ],
             [
              0.6666666666666666,
              "#ed7953"
             ],
             [
              0.7777777777777778,
              "#fb9f3a"
             ],
             [
              0.8888888888888888,
              "#fdca26"
             ],
             [
              1,
              "#f0f921"
             ]
            ],
            "type": "histogram2dcontour"
           }
          ],
          "mesh3d": [
           {
            "colorbar": {
             "outlinewidth": 0,
             "ticks": ""
            },
            "type": "mesh3d"
           }
          ],
          "parcoords": [
           {
            "line": {
             "colorbar": {
              "outlinewidth": 0,
              "ticks": ""
             }
            },
            "type": "parcoords"
           }
          ],
          "pie": [
           {
            "automargin": true,
            "type": "pie"
           }
          ],
          "scatter": [
           {
            "fillpattern": {
             "fillmode": "overlay",
             "size": 10,
             "solidity": 0.2
            },
            "type": "scatter"
           }
          ],
          "scatter3d": [
           {
            "line": {
             "colorbar": {
              "outlinewidth": 0,
              "ticks": ""
             }
            },
            "marker": {
             "colorbar": {
              "outlinewidth": 0,
              "ticks": ""
             }
            },
            "type": "scatter3d"
           }
          ],
          "scattercarpet": [
           {
            "marker": {
             "colorbar": {
              "outlinewidth": 0,
              "ticks": ""
             }
            },
            "type": "scattercarpet"
           }
          ],
          "scattergeo": [
           {
            "marker": {
             "colorbar": {
              "outlinewidth": 0,
              "ticks": ""
             }
            },
            "type": "scattergeo"
           }
          ],
          "scattergl": [
           {
            "marker": {
             "colorbar": {
              "outlinewidth": 0,
              "ticks": ""
             }
            },
            "type": "scattergl"
           }
          ],
          "scattermap": [
           {
            "marker": {
             "colorbar": {
              "outlinewidth": 0,
              "ticks": ""
             }
            },
            "type": "scattermap"
           }
          ],
          "scattermapbox": [
           {
            "marker": {
             "colorbar": {
              "outlinewidth": 0,
              "ticks": ""
             }
            },
            "type": "scattermapbox"
           }
          ],
          "scatterpolar": [
           {
            "marker": {
             "colorbar": {
              "outlinewidth": 0,
              "ticks": ""
             }
            },
            "type": "scatterpolar"
           }
          ],
          "scatterpolargl": [
           {
            "marker": {
             "colorbar": {
              "outlinewidth": 0,
              "ticks": ""
             }
            },
            "type": "scatterpolargl"
           }
          ],
          "scatterternary": [
           {
            "marker": {
             "colorbar": {
              "outlinewidth": 0,
              "ticks": ""
             }
            },
            "type": "scatterternary"
           }
          ],
          "surface": [
           {
            "colorbar": {
             "outlinewidth": 0,
             "ticks": ""
            },
            "colorscale": [
             [
              0,
              "#0d0887"
             ],
             [
              0.1111111111111111,
              "#46039f"
             ],
             [
              0.2222222222222222,
              "#7201a8"
             ],
             [
              0.3333333333333333,
              "#9c179e"
             ],
             [
              0.4444444444444444,
              "#bd3786"
             ],
             [
              0.5555555555555556,
              "#d8576b"
             ],
             [
              0.6666666666666666,
              "#ed7953"
             ],
             [
              0.7777777777777778,
              "#fb9f3a"
             ],
             [
              0.8888888888888888,
              "#fdca26"
             ],
             [
              1,
              "#f0f921"
             ]
            ],
            "type": "surface"
           }
          ],
          "table": [
           {
            "cells": {
             "fill": {
              "color": "#EBF0F8"
             },
             "line": {
              "color": "white"
             }
            },
            "header": {
             "fill": {
              "color": "#C8D4E3"
             },
             "line": {
              "color": "white"
             }
            },
            "type": "table"
           }
          ]
         },
         "layout": {
          "annotationdefaults": {
           "arrowcolor": "#2a3f5f",
           "arrowhead": 0,
           "arrowwidth": 1
          },
          "autotypenumbers": "strict",
          "coloraxis": {
           "colorbar": {
            "outlinewidth": 0,
            "ticks": ""
           }
          },
          "colorscale": {
           "diverging": [
            [
             0,
             "#8e0152"
            ],
            [
             0.1,
             "#c51b7d"
            ],
            [
             0.2,
             "#de77ae"
            ],
            [
             0.3,
             "#f1b6da"
            ],
            [
             0.4,
             "#fde0ef"
            ],
            [
             0.5,
             "#f7f7f7"
            ],
            [
             0.6,
             "#e6f5d0"
            ],
            [
             0.7,
             "#b8e186"
            ],
            [
             0.8,
             "#7fbc41"
            ],
            [
             0.9,
             "#4d9221"
            ],
            [
             1,
             "#276419"
            ]
           ],
           "sequential": [
            [
             0,
             "#0d0887"
            ],
            [
             0.1111111111111111,
             "#46039f"
            ],
            [
             0.2222222222222222,
             "#7201a8"
            ],
            [
             0.3333333333333333,
             "#9c179e"
            ],
            [
             0.4444444444444444,
             "#bd3786"
            ],
            [
             0.5555555555555556,
             "#d8576b"
            ],
            [
             0.6666666666666666,
             "#ed7953"
            ],
            [
             0.7777777777777778,
             "#fb9f3a"
            ],
            [
             0.8888888888888888,
             "#fdca26"
            ],
            [
             1,
             "#f0f921"
            ]
           ],
           "sequentialminus": [
            [
             0,
             "#0d0887"
            ],
            [
             0.1111111111111111,
             "#46039f"
            ],
            [
             0.2222222222222222,
             "#7201a8"
            ],
            [
             0.3333333333333333,
             "#9c179e"
            ],
            [
             0.4444444444444444,
             "#bd3786"
            ],
            [
             0.5555555555555556,
             "#d8576b"
            ],
            [
             0.6666666666666666,
             "#ed7953"
            ],
            [
             0.7777777777777778,
             "#fb9f3a"
            ],
            [
             0.8888888888888888,
             "#fdca26"
            ],
            [
             1,
             "#f0f921"
            ]
           ]
          },
          "colorway": [
           "#636efa",
           "#EF553B",
           "#00cc96",
           "#ab63fa",
           "#FFA15A",
           "#19d3f3",
           "#FF6692",
           "#B6E880",
           "#FF97FF",
           "#FECB52"
          ],
          "font": {
           "color": "#2a3f5f"
          },
          "geo": {
           "bgcolor": "white",
           "lakecolor": "white",
           "landcolor": "#E5ECF6",
           "showlakes": true,
           "showland": true,
           "subunitcolor": "white"
          },
          "hoverlabel": {
           "align": "left"
          },
          "hovermode": "closest",
          "mapbox": {
           "style": "light"
          },
          "paper_bgcolor": "white",
          "plot_bgcolor": "#E5ECF6",
          "polar": {
           "angularaxis": {
            "gridcolor": "white",
            "linecolor": "white",
            "ticks": ""
           },
           "bgcolor": "#E5ECF6",
           "radialaxis": {
            "gridcolor": "white",
            "linecolor": "white",
            "ticks": ""
           }
          },
          "scene": {
           "xaxis": {
            "backgroundcolor": "#E5ECF6",
            "gridcolor": "white",
            "gridwidth": 2,
            "linecolor": "white",
            "showbackground": true,
            "ticks": "",
            "zerolinecolor": "white"
           },
           "yaxis": {
            "backgroundcolor": "#E5ECF6",
            "gridcolor": "white",
            "gridwidth": 2,
            "linecolor": "white",
            "showbackground": true,
            "ticks": "",
            "zerolinecolor": "white"
           },
           "zaxis": {
            "backgroundcolor": "#E5ECF6",
            "gridcolor": "white",
            "gridwidth": 2,
            "linecolor": "white",
            "showbackground": true,
            "ticks": "",
            "zerolinecolor": "white"
           }
          },
          "shapedefaults": {
           "line": {
            "color": "#2a3f5f"
           }
          },
          "ternary": {
           "aaxis": {
            "gridcolor": "white",
            "linecolor": "white",
            "ticks": ""
           },
           "baxis": {
            "gridcolor": "white",
            "linecolor": "white",
            "ticks": ""
           },
           "bgcolor": "#E5ECF6",
           "caxis": {
            "gridcolor": "white",
            "linecolor": "white",
            "ticks": ""
           }
          },
          "title": {
           "x": 0.05
          },
          "xaxis": {
           "automargin": true,
           "gridcolor": "white",
           "linecolor": "white",
           "ticks": "",
           "title": {
            "standoff": 15
           },
           "zerolinecolor": "white",
           "zerolinewidth": 2
          },
          "yaxis": {
           "automargin": true,
           "gridcolor": "white",
           "linecolor": "white",
           "ticks": "",
           "title": {
            "standoff": 15
           },
           "zerolinecolor": "white",
           "zerolinewidth": 2
          }
         }
        },
        "title": {
         "text": "Customer Age vs Credit Limit colored by Attrition Flag"
        },
        "xaxis": {
         "anchor": "y",
         "domain": [
          0,
          1
         ],
         "title": {
          "text": "Customer Age"
         }
        },
        "yaxis": {
         "anchor": "x",
         "domain": [
          0,
          1
         ],
         "title": {
          "text": "Credit Limit"
         }
        }
       }
      }
     },
     "metadata": {},
     "output_type": "display_data"
    }
   ],
   "source": [
    "import plotly.express as px\n",
    "\n",
    "fig = px.scatter(\n",
    "    df, x= \"Customer Age\", y=\"Credit Limit\", color=\"Attrition Flag\",\n",
    "    title=\"Customer Age vs Credit Limit colored by Attrition Flag\"\n",
    ")\n",
    "fig.show()"
   ]
  },
  {
   "cell_type": "markdown",
   "id": "8f2eb717",
   "metadata": {},
   "source": [
    "This visual shows whether older or younger customers are likely to become attrited."
   ]
  },
  {
   "cell_type": "markdown",
   "id": "12e2a84c",
   "metadata": {},
   "source": [
    "# Visualisation 2:"
   ]
  },
  {
   "cell_type": "markdown",
   "id": "000d8c71",
   "metadata": {},
   "source": [
    "I want to see if their is a trend in the distribution of customer age by their credit limit."
   ]
  },
  {
   "cell_type": "code",
   "execution_count": 23,
   "id": "d271c292",
   "metadata": {},
   "outputs": [
    {
     "data": {
      "application/vnd.plotly.v1+json": {
       "config": {
        "plotlyServerURL": "https://plot.ly"
       },
       "data": [
        {
         "alignmentgroup": "True",
         "box": {
          "visible": true
         },
         "hovertemplate": "Credit Limit=%{x}<br>Customer Age=%{y}<extra></extra>",
         "legendgroup": "",
         "marker": {
          "color": "#636efa"
         },
         "name": "",
         "offsetgroup": "",
         "orientation": "v",
         "points": "all",
         "scalegroup": "True",
         "showlegend": false,
         "type": "violin",
         "x": {
          "bdata": "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",
          "dtype": "f8"
         },
         "x0": " ",
         "xaxis": "x",
         "y": {
          "bdata": "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",
          "dtype": "i1"
         },
         "y0": " ",
         "yaxis": "y"
        }
       ],
       "layout": {
        "legend": {
         "tracegroupgap": 0
        },
        "template": {
         "data": {
          "bar": [
           {
            "error_x": {
             "color": "#2a3f5f"
            },
            "error_y": {
             "color": "#2a3f5f"
            },
            "marker": {
             "line": {
              "color": "#E5ECF6",
              "width": 0.5
             },
             "pattern": {
              "fillmode": "overlay",
              "size": 10,
              "solidity": 0.2
             }
            },
            "type": "bar"
           }
          ],
          "barpolar": [
           {
            "marker": {
             "line": {
              "color": "#E5ECF6",
              "width": 0.5
             },
             "pattern": {
              "fillmode": "overlay",
              "size": 10,
              "solidity": 0.2
             }
            },
            "type": "barpolar"
           }
          ],
          "carpet": [
           {
            "aaxis": {
             "endlinecolor": "#2a3f5f",
             "gridcolor": "white",
             "linecolor": "white",
             "minorgridcolor": "white",
             "startlinecolor": "#2a3f5f"
            },
            "baxis": {
             "endlinecolor": "#2a3f5f",
             "gridcolor": "white",
             "linecolor": "white",
             "minorgridcolor": "white",
             "startlinecolor": "#2a3f5f"
            },
            "type": "carpet"
           }
          ],
          "choropleth": [
           {
            "colorbar": {
             "outlinewidth": 0,
             "ticks": ""
            },
            "type": "choropleth"
           }
          ],
          "contour": [
           {
            "colorbar": {
             "outlinewidth": 0,
             "ticks": ""
            },
            "colorscale": [
             [
              0,
              "#0d0887"
             ],
             [
              0.1111111111111111,
              "#46039f"
             ],
             [
              0.2222222222222222,
              "#7201a8"
             ],
             [
              0.3333333333333333,
              "#9c179e"
             ],
             [
              0.4444444444444444,
              "#bd3786"
             ],
             [
              0.5555555555555556,
              "#d8576b"
             ],
             [
              0.6666666666666666,
              "#ed7953"
             ],
             [
              0.7777777777777778,
              "#fb9f3a"
             ],
             [
              0.8888888888888888,
              "#fdca26"
             ],
             [
              1,
              "#f0f921"
             ]
            ],
            "type": "contour"
           }
          ],
          "contourcarpet": [
           {
            "colorbar": {
             "outlinewidth": 0,
             "ticks": ""
            },
            "type": "contourcarpet"
           }
          ],
          "heatmap": [
           {
            "colorbar": {
             "outlinewidth": 0,
             "ticks": ""
            },
            "colorscale": [
             [
              0,
              "#0d0887"
             ],
             [
              0.1111111111111111,
              "#46039f"
             ],
             [
              0.2222222222222222,
              "#7201a8"
             ],
             [
              0.3333333333333333,
              "#9c179e"
             ],
             [
              0.4444444444444444,
              "#bd3786"
             ],
             [
              0.5555555555555556,
              "#d8576b"
             ],
             [
              0.6666666666666666,
              "#ed7953"
             ],
             [
              0.7777777777777778,
              "#fb9f3a"
             ],
             [
              0.8888888888888888,
              "#fdca26"
             ],
             [
              1,
              "#f0f921"
             ]
            ],
            "type": "heatmap"
           }
          ],
          "histogram": [
           {
            "marker": {
             "pattern": {
              "fillmode": "overlay",
              "size": 10,
              "solidity": 0.2
             }
            },
            "type": "histogram"
           }
          ],
          "histogram2d": [
           {
            "colorbar": {
             "outlinewidth": 0,
             "ticks": ""
            },
            "colorscale": [
             [
              0,
              "#0d0887"
             ],
             [
              0.1111111111111111,
              "#46039f"
             ],
             [
              0.2222222222222222,
              "#7201a8"
             ],
             [
              0.3333333333333333,
              "#9c179e"
             ],
             [
              0.4444444444444444,
              "#bd3786"
             ],
             [
              0.5555555555555556,
              "#d8576b"
             ],
             [
              0.6666666666666666,
              "#ed7953"
             ],
             [
              0.7777777777777778,
              "#fb9f3a"
             ],
             [
              0.8888888888888888,
              "#fdca26"
             ],
             [
              1,
              "#f0f921"
             ]
            ],
            "type": "histogram2d"
           }
          ],
          "histogram2dcontour": [
           {
            "colorbar": {
             "outlinewidth": 0,
             "ticks": ""
            },
            "colorscale": [
             [
              0,
              "#0d0887"
             ],
             [
              0.1111111111111111,
              "#46039f"
             ],
             [
              0.2222222222222222,
              "#7201a8"
             ],
             [
              0.3333333333333333,
              "#9c179e"
             ],
             [
              0.4444444444444444,
              "#bd3786"
             ],
             [
              0.5555555555555556,
              "#d8576b"
             ],
             [
              0.6666666666666666,
              "#ed7953"
             ],
             [
              0.7777777777777778,
              "#fb9f3a"
             ],
             [
              0.8888888888888888,
              "#fdca26"
             ],
             [
              1,
              "#f0f921"
             ]
            ],
            "type": "histogram2dcontour"
           }
          ],
          "mesh3d": [
           {
            "colorbar": {
             "outlinewidth": 0,
             "ticks": ""
            },
            "type": "mesh3d"
           }
          ],
          "parcoords": [
           {
            "line": {
             "colorbar": {
              "outlinewidth": 0,
              "ticks": ""
             }
            },
            "type": "parcoords"
           }
          ],
          "pie": [
           {
            "automargin": true,
            "type": "pie"
           }
          ],
          "scatter": [
           {
            "fillpattern": {
             "fillmode": "overlay",
             "size": 10,
             "solidity": 0.2
            },
            "type": "scatter"
           }
          ],
          "scatter3d": [
           {
            "line": {
             "colorbar": {
              "outlinewidth": 0,
              "ticks": ""
             }
            },
            "marker": {
             "colorbar": {
              "outlinewidth": 0,
              "ticks": ""
             }
            },
            "type": "scatter3d"
           }
          ],
          "scattercarpet": [
           {
            "marker": {
             "colorbar": {
              "outlinewidth": 0,
              "ticks": ""
             }
            },
            "type": "scattercarpet"
           }
          ],
          "scattergeo": [
           {
            "marker": {
             "colorbar": {
              "outlinewidth": 0,
              "ticks": ""
             }
            },
            "type": "scattergeo"
           }
          ],
          "scattergl": [
           {
            "marker": {
             "colorbar": {
              "outlinewidth": 0,
              "ticks": ""
             }
            },
            "type": "scattergl"
           }
          ],
          "scattermap": [
           {
            "marker": {
             "colorbar": {
              "outlinewidth": 0,
              "ticks": ""
             }
            },
            "type": "scattermap"
           }
          ],
          "scattermapbox": [
           {
            "marker": {
             "colorbar": {
              "outlinewidth": 0,
              "ticks": ""
             }
            },
            "type": "scattermapbox"
           }
          ],
          "scatterpolar": [
           {
            "marker": {
             "colorbar": {
              "outlinewidth": 0,
              "ticks": ""
             }
            },
            "type": "scatterpolar"
           }
          ],
          "scatterpolargl": [
           {
            "marker": {
             "colorbar": {
              "outlinewidth": 0,
              "ticks": ""
             }
            },
            "type": "scatterpolargl"
           }
          ],
          "scatterternary": [
           {
            "marker": {
             "colorbar": {
              "outlinewidth": 0,
              "ticks": ""
             }
            },
            "type": "scatterternary"
           }
          ],
          "surface": [
           {
            "colorbar": {
             "outlinewidth": 0,
             "ticks": ""
            },
            "colorscale": [
             [
              0,
              "#0d0887"
             ],
             [
              0.1111111111111111,
              "#46039f"
             ],
             [
              0.2222222222222222,
              "#7201a8"
             ],
             [
              0.3333333333333333,
              "#9c179e"
             ],
             [
              0.4444444444444444,
              "#bd3786"
             ],
             [
              0.5555555555555556,
              "#d8576b"
             ],
             [
              0.6666666666666666,
              "#ed7953"
             ],
             [
              0.7777777777777778,
              "#fb9f3a"
             ],
             [
              0.8888888888888888,
              "#fdca26"
             ],
             [
              1,
              "#f0f921"
             ]
            ],
            "type": "surface"
           }
          ],
          "table": [
           {
            "cells": {
             "fill": {
              "color": "#EBF0F8"
             },
             "line": {
              "color": "white"
             }
            },
            "header": {
             "fill": {
              "color": "#C8D4E3"
             },
             "line": {
              "color": "white"
             }
            },
            "type": "table"
           }
          ]
         },
         "layout": {
          "annotationdefaults": {
           "arrowcolor": "#2a3f5f",
           "arrowhead": 0,
           "arrowwidth": 1
          },
          "autotypenumbers": "strict",
          "coloraxis": {
           "colorbar": {
            "outlinewidth": 0,
            "ticks": ""
           }
          },
          "colorscale": {
           "diverging": [
            [
             0,
             "#8e0152"
            ],
            [
             0.1,
             "#c51b7d"
            ],
            [
             0.2,
             "#de77ae"
            ],
            [
             0.3,
             "#f1b6da"
            ],
            [
             0.4,
             "#fde0ef"
            ],
            [
             0.5,
             "#f7f7f7"
            ],
            [
             0.6,
             "#e6f5d0"
            ],
            [
             0.7,
             "#b8e186"
            ],
            [
             0.8,
             "#7fbc41"
            ],
            [
             0.9,
             "#4d9221"
            ],
            [
             1,
             "#276419"
            ]
           ],
           "sequential": [
            [
             0,
             "#0d0887"
            ],
            [
             0.1111111111111111,
             "#46039f"
            ],
            [
             0.2222222222222222,
             "#7201a8"
            ],
            [
             0.3333333333333333,
             "#9c179e"
            ],
            [
             0.4444444444444444,
             "#bd3786"
            ],
            [
             0.5555555555555556,
             "#d8576b"
            ],
            [
             0.6666666666666666,
             "#ed7953"
            ],
            [
             0.7777777777777778,
             "#fb9f3a"
            ],
            [
             0.8888888888888888,
             "#fdca26"
            ],
            [
             1,
             "#f0f921"
            ]
           ],
           "sequentialminus": [
            [
             0,
             "#0d0887"
            ],
            [
             0.1111111111111111,
             "#46039f"
            ],
            [
             0.2222222222222222,
             "#7201a8"
            ],
            [
             0.3333333333333333,
             "#9c179e"
            ],
            [
             0.4444444444444444,
             "#bd3786"
            ],
            [
             0.5555555555555556,
             "#d8576b"
            ],
            [
             0.6666666666666666,
             "#ed7953"
            ],
            [
             0.7777777777777778,
             "#fb9f3a"
            ],
            [
             0.8888888888888888,
             "#fdca26"
            ],
            [
             1,
             "#f0f921"
            ]
           ]
          },
          "colorway": [
           "#636efa",
           "#EF553B",
           "#00cc96",
           "#ab63fa",
           "#FFA15A",
           "#19d3f3",
           "#FF6692",
           "#B6E880",
           "#FF97FF",
           "#FECB52"
          ],
          "font": {
           "color": "#2a3f5f"
          },
          "geo": {
           "bgcolor": "white",
           "lakecolor": "white",
           "landcolor": "#E5ECF6",
           "showlakes": true,
           "showland": true,
           "subunitcolor": "white"
          },
          "hoverlabel": {
           "align": "left"
          },
          "hovermode": "closest",
          "mapbox": {
           "style": "light"
          },
          "paper_bgcolor": "white",
          "plot_bgcolor": "#E5ECF6",
          "polar": {
           "angularaxis": {
            "gridcolor": "white",
            "linecolor": "white",
            "ticks": ""
           },
           "bgcolor": "#E5ECF6",
           "radialaxis": {
            "gridcolor": "white",
            "linecolor": "white",
            "ticks": ""
           }
          },
          "scene": {
           "xaxis": {
            "backgroundcolor": "#E5ECF6",
            "gridcolor": "white",
            "gridwidth": 2,
            "linecolor": "white",
            "showbackground": true,
            "ticks": "",
            "zerolinecolor": "white"
           },
           "yaxis": {
            "backgroundcolor": "#E5ECF6",
            "gridcolor": "white",
            "gridwidth": 2,
            "linecolor": "white",
            "showbackground": true,
            "ticks": "",
            "zerolinecolor": "white"
           },
           "zaxis": {
            "backgroundcolor": "#E5ECF6",
            "gridcolor": "white",
            "gridwidth": 2,
            "linecolor": "white",
            "showbackground": true,
            "ticks": "",
            "zerolinecolor": "white"
           }
          },
          "shapedefaults": {
           "line": {
            "color": "#2a3f5f"
           }
          },
          "ternary": {
           "aaxis": {
            "gridcolor": "white",
            "linecolor": "white",
            "ticks": ""
           },
           "baxis": {
            "gridcolor": "white",
            "linecolor": "white",
            "ticks": ""
           },
           "bgcolor": "#E5ECF6",
           "caxis": {
            "gridcolor": "white",
            "linecolor": "white",
            "ticks": ""
           }
          },
          "title": {
           "x": 0.05
          },
          "xaxis": {
           "automargin": true,
           "gridcolor": "white",
           "linecolor": "white",
           "ticks": "",
           "title": {
            "standoff": 15
           },
           "zerolinecolor": "white",
           "zerolinewidth": 2
          },
          "yaxis": {
           "automargin": true,
           "gridcolor": "white",
           "linecolor": "white",
           "ticks": "",
           "title": {
            "standoff": 15
           },
           "zerolinecolor": "white",
           "zerolinewidth": 2
          }
         }
        },
        "title": {
         "text": "Distribution of Customer Age by Credit Limit"
        },
        "violinmode": "group",
        "xaxis": {
         "anchor": "y",
         "domain": [
          0,
          1
         ],
         "title": {
          "text": "Credit Limit"
         }
        },
        "yaxis": {
         "anchor": "x",
         "domain": [
          0,
          1
         ],
         "title": {
          "text": "Customer Age"
         }
        }
       }
      }
     },
     "metadata": {},
     "output_type": "display_data"
    }
   ],
   "source": [
    "fig = px.violin(\n",
    "    df,\n",
    "    x=\"Credit Limit\",        \n",
    "    y=\"Customer Age\",          \n",
    "    box=True,                  \n",
    "    points=\"all\",              \n",
    "    title=\"Distribution of Customer Age by Credit Limit\"\n",
    ")\n",
    "fig.show()\n"
   ]
  },
  {
   "cell_type": "markdown",
   "id": "f99fa4c1",
   "metadata": {},
   "source": [
    "This visual shows that the majority of customers in their 40-50s have a higher credit limit and those in their 20s or 60s have a lower credit limit.\n"
   ]
  },
  {
   "cell_type": "markdown",
   "id": "7dcd2299",
   "metadata": {},
   "source": [
    "# Visualisation 3:"
   ]
  },
  {
   "cell_type": "markdown",
   "id": "2faa9e02",
   "metadata": {},
   "source": [
    "I want to see the spending behaviours with customers' income."
   ]
  },
  {
   "cell_type": "code",
   "execution_count": 37,
   "id": "d43d66fe",
   "metadata": {},
   "outputs": [
    {
     "data": {
      "application/vnd.plotly.v1+json": {
       "config": {
        "plotlyServerURL": "https://plot.ly"
       },
       "data": [
        {
         "hovertemplate": "Income Category=%{x}<br>Total Trans Amt=%{y}<extra></extra>",
         "legendgroup": "",
         "marker": {
          "color": "#636efa",
          "pattern": {
           "shape": ""
          }
         },
         "name": "",
         "orientation": "v",
         "showlegend": false,
         "textposition": "auto",
         "texttemplate": "%{y}",
         "type": "bar",
         "x": [
          "$120K +",
          "$40K - $60K",
          "$60K - $80K",
          "$80K - $120K",
          "Less than $40K",
          "Unknown"
         ],
         "xaxis": "x",
         "y": {
          "bdata": "+z4yAOpUeACbNl8AQABpANsX7QDbqEgA",
          "dtype": "i4"
         },
         "yaxis": "y"
        }
       ],
       "layout": {
        "barmode": "relative",
        "legend": {
         "tracegroupgap": 0
        },
        "template": {
         "data": {
          "bar": [
           {
            "error_x": {
             "color": "#2a3f5f"
            },
            "error_y": {
             "color": "#2a3f5f"
            },
            "marker": {
             "line": {
              "color": "#E5ECF6",
              "width": 0.5
             },
             "pattern": {
              "fillmode": "overlay",
              "size": 10,
              "solidity": 0.2
             }
            },
            "type": "bar"
           }
          ],
          "barpolar": [
           {
            "marker": {
             "line": {
              "color": "#E5ECF6",
              "width": 0.5
             },
             "pattern": {
              "fillmode": "overlay",
              "size": 10,
              "solidity": 0.2
             }
            },
            "type": "barpolar"
           }
          ],
          "carpet": [
           {
            "aaxis": {
             "endlinecolor": "#2a3f5f",
             "gridcolor": "white",
             "linecolor": "white",
             "minorgridcolor": "white",
             "startlinecolor": "#2a3f5f"
            },
            "baxis": {
             "endlinecolor": "#2a3f5f",
             "gridcolor": "white",
             "linecolor": "white",
             "minorgridcolor": "white",
             "startlinecolor": "#2a3f5f"
            },
            "type": "carpet"
           }
          ],
          "choropleth": [
           {
            "colorbar": {
             "outlinewidth": 0,
             "ticks": ""
            },
            "type": "choropleth"
           }
          ],
          "contour": [
           {
            "colorbar": {
             "outlinewidth": 0,
             "ticks": ""
            },
            "colorscale": [
             [
              0,
              "#0d0887"
             ],
             [
              0.1111111111111111,
              "#46039f"
             ],
             [
              0.2222222222222222,
              "#7201a8"
             ],
             [
              0.3333333333333333,
              "#9c179e"
             ],
             [
              0.4444444444444444,
              "#bd3786"
             ],
             [
              0.5555555555555556,
              "#d8576b"
             ],
             [
              0.6666666666666666,
              "#ed7953"
             ],
             [
              0.7777777777777778,
              "#fb9f3a"
             ],
             [
              0.8888888888888888,
              "#fdca26"
             ],
             [
              1,
              "#f0f921"
             ]
            ],
            "type": "contour"
           }
          ],
          "contourcarpet": [
           {
            "colorbar": {
             "outlinewidth": 0,
             "ticks": ""
            },
            "type": "contourcarpet"
           }
          ],
          "heatmap": [
           {
            "colorbar": {
             "outlinewidth": 0,
             "ticks": ""
            },
            "colorscale": [
             [
              0,
              "#0d0887"
             ],
             [
              0.1111111111111111,
              "#46039f"
             ],
             [
              0.2222222222222222,
              "#7201a8"
             ],
             [
              0.3333333333333333,
              "#9c179e"
             ],
             [
              0.4444444444444444,
              "#bd3786"
             ],
             [
              0.5555555555555556,
              "#d8576b"
             ],
             [
              0.6666666666666666,
              "#ed7953"
             ],
             [
              0.7777777777777778,
              "#fb9f3a"
             ],
             [
              0.8888888888888888,
              "#fdca26"
             ],
             [
              1,
              "#f0f921"
             ]
            ],
            "type": "heatmap"
           }
          ],
          "histogram": [
           {
            "marker": {
             "pattern": {
              "fillmode": "overlay",
              "size": 10,
              "solidity": 0.2
             }
            },
            "type": "histogram"
           }
          ],
          "histogram2d": [
           {
            "colorbar": {
             "outlinewidth": 0,
             "ticks": ""
            },
            "colorscale": [
             [
              0,
              "#0d0887"
             ],
             [
              0.1111111111111111,
              "#46039f"
             ],
             [
              0.2222222222222222,
              "#7201a8"
             ],
             [
              0.3333333333333333,
              "#9c179e"
             ],
             [
              0.4444444444444444,
              "#bd3786"
             ],
             [
              0.5555555555555556,
              "#d8576b"
             ],
             [
              0.6666666666666666,
              "#ed7953"
             ],
             [
              0.7777777777777778,
              "#fb9f3a"
             ],
             [
              0.8888888888888888,
              "#fdca26"
             ],
             [
              1,
              "#f0f921"
             ]
            ],
            "type": "histogram2d"
           }
          ],
          "histogram2dcontour": [
           {
            "colorbar": {
             "outlinewidth": 0,
             "ticks": ""
            },
            "colorscale": [
             [
              0,
              "#0d0887"
             ],
             [
              0.1111111111111111,
              "#46039f"
             ],
             [
              0.2222222222222222,
              "#7201a8"
             ],
             [
              0.3333333333333333,
              "#9c179e"
             ],
             [
              0.4444444444444444,
              "#bd3786"
             ],
             [
              0.5555555555555556,
              "#d8576b"
             ],
             [
              0.6666666666666666,
              "#ed7953"
             ],
             [
              0.7777777777777778,
              "#fb9f3a"
             ],
             [
              0.8888888888888888,
              "#fdca26"
             ],
             [
              1,
              "#f0f921"
             ]
            ],
            "type": "histogram2dcontour"
           }
          ],
          "mesh3d": [
           {
            "colorbar": {
             "outlinewidth": 0,
             "ticks": ""
            },
            "type": "mesh3d"
           }
          ],
          "parcoords": [
           {
            "line": {
             "colorbar": {
              "outlinewidth": 0,
              "ticks": ""
             }
            },
            "type": "parcoords"
           }
          ],
          "pie": [
           {
            "automargin": true,
            "type": "pie"
           }
          ],
          "scatter": [
           {
            "fillpattern": {
             "fillmode": "overlay",
             "size": 10,
             "solidity": 0.2
            },
            "type": "scatter"
           }
          ],
          "scatter3d": [
           {
            "line": {
             "colorbar": {
              "outlinewidth": 0,
              "ticks": ""
             }
            },
            "marker": {
             "colorbar": {
              "outlinewidth": 0,
              "ticks": ""
             }
            },
            "type": "scatter3d"
           }
          ],
          "scattercarpet": [
           {
            "marker": {
             "colorbar": {
              "outlinewidth": 0,
              "ticks": ""
             }
            },
            "type": "scattercarpet"
           }
          ],
          "scattergeo": [
           {
            "marker": {
             "colorbar": {
              "outlinewidth": 0,
              "ticks": ""
             }
            },
            "type": "scattergeo"
           }
          ],
          "scattergl": [
           {
            "marker": {
             "colorbar": {
              "outlinewidth": 0,
              "ticks": ""
             }
            },
            "type": "scattergl"
           }
          ],
          "scattermap": [
           {
            "marker": {
             "colorbar": {
              "outlinewidth": 0,
              "ticks": ""
             }
            },
            "type": "scattermap"
           }
          ],
          "scattermapbox": [
           {
            "marker": {
             "colorbar": {
              "outlinewidth": 0,
              "ticks": ""
             }
            },
            "type": "scattermapbox"
           }
          ],
          "scatterpolar": [
           {
            "marker": {
             "colorbar": {
              "outlinewidth": 0,
              "ticks": ""
             }
            },
            "type": "scatterpolar"
           }
          ],
          "scatterpolargl": [
           {
            "marker": {
             "colorbar": {
              "outlinewidth": 0,
              "ticks": ""
             }
            },
            "type": "scatterpolargl"
           }
          ],
          "scatterternary": [
           {
            "marker": {
             "colorbar": {
              "outlinewidth": 0,
              "ticks": ""
             }
            },
            "type": "scatterternary"
           }
          ],
          "surface": [
           {
            "colorbar": {
             "outlinewidth": 0,
             "ticks": ""
            },
            "colorscale": [
             [
              0,
              "#0d0887"
             ],
             [
              0.1111111111111111,
              "#46039f"
             ],
             [
              0.2222222222222222,
              "#7201a8"
             ],
             [
              0.3333333333333333,
              "#9c179e"
             ],
             [
              0.4444444444444444,
              "#bd3786"
             ],
             [
              0.5555555555555556,
              "#d8576b"
             ],
             [
              0.6666666666666666,
              "#ed7953"
             ],
             [
              0.7777777777777778,
              "#fb9f3a"
             ],
             [
              0.8888888888888888,
              "#fdca26"
             ],
             [
              1,
              "#f0f921"
             ]
            ],
            "type": "surface"
           }
          ],
          "table": [
           {
            "cells": {
             "fill": {
              "color": "#EBF0F8"
             },
             "line": {
              "color": "white"
             }
            },
            "header": {
             "fill": {
              "color": "#C8D4E3"
             },
             "line": {
              "color": "white"
             }
            },
            "type": "table"
           }
          ]
         },
         "layout": {
          "annotationdefaults": {
           "arrowcolor": "#2a3f5f",
           "arrowhead": 0,
           "arrowwidth": 1
          },
          "autotypenumbers": "strict",
          "coloraxis": {
           "colorbar": {
            "outlinewidth": 0,
            "ticks": ""
           }
          },
          "colorscale": {
           "diverging": [
            [
             0,
             "#8e0152"
            ],
            [
             0.1,
             "#c51b7d"
            ],
            [
             0.2,
             "#de77ae"
            ],
            [
             0.3,
             "#f1b6da"
            ],
            [
             0.4,
             "#fde0ef"
            ],
            [
             0.5,
             "#f7f7f7"
            ],
            [
             0.6,
             "#e6f5d0"
            ],
            [
             0.7,
             "#b8e186"
            ],
            [
             0.8,
             "#7fbc41"
            ],
            [
             0.9,
             "#4d9221"
            ],
            [
             1,
             "#276419"
            ]
           ],
           "sequential": [
            [
             0,
             "#0d0887"
            ],
            [
             0.1111111111111111,
             "#46039f"
            ],
            [
             0.2222222222222222,
             "#7201a8"
            ],
            [
             0.3333333333333333,
             "#9c179e"
            ],
            [
             0.4444444444444444,
             "#bd3786"
            ],
            [
             0.5555555555555556,
             "#d8576b"
            ],
            [
             0.6666666666666666,
             "#ed7953"
            ],
            [
             0.7777777777777778,
             "#fb9f3a"
            ],
            [
             0.8888888888888888,
             "#fdca26"
            ],
            [
             1,
             "#f0f921"
            ]
           ],
           "sequentialminus": [
            [
             0,
             "#0d0887"
            ],
            [
             0.1111111111111111,
             "#46039f"
            ],
            [
             0.2222222222222222,
             "#7201a8"
            ],
            [
             0.3333333333333333,
             "#9c179e"
            ],
            [
             0.4444444444444444,
             "#bd3786"
            ],
            [
             0.5555555555555556,
             "#d8576b"
            ],
            [
             0.6666666666666666,
             "#ed7953"
            ],
            [
             0.7777777777777778,
             "#fb9f3a"
            ],
            [
             0.8888888888888888,
             "#fdca26"
            ],
            [
             1,
             "#f0f921"
            ]
           ]
          },
          "colorway": [
           "#636efa",
           "#EF553B",
           "#00cc96",
           "#ab63fa",
           "#FFA15A",
           "#19d3f3",
           "#FF6692",
           "#B6E880",
           "#FF97FF",
           "#FECB52"
          ],
          "font": {
           "color": "#2a3f5f"
          },
          "geo": {
           "bgcolor": "white",
           "lakecolor": "white",
           "landcolor": "#E5ECF6",
           "showlakes": true,
           "showland": true,
           "subunitcolor": "white"
          },
          "hoverlabel": {
           "align": "left"
          },
          "hovermode": "closest",
          "mapbox": {
           "style": "light"
          },
          "paper_bgcolor": "white",
          "plot_bgcolor": "#E5ECF6",
          "polar": {
           "angularaxis": {
            "gridcolor": "white",
            "linecolor": "white",
            "ticks": ""
           },
           "bgcolor": "#E5ECF6",
           "radialaxis": {
            "gridcolor": "white",
            "linecolor": "white",
            "ticks": ""
           }
          },
          "scene": {
           "xaxis": {
            "backgroundcolor": "#E5ECF6",
            "gridcolor": "white",
            "gridwidth": 2,
            "linecolor": "white",
            "showbackground": true,
            "ticks": "",
            "zerolinecolor": "white"
           },
           "yaxis": {
            "backgroundcolor": "#E5ECF6",
            "gridcolor": "white",
            "gridwidth": 2,
            "linecolor": "white",
            "showbackground": true,
            "ticks": "",
            "zerolinecolor": "white"
           },
           "zaxis": {
            "backgroundcolor": "#E5ECF6",
            "gridcolor": "white",
            "gridwidth": 2,
            "linecolor": "white",
            "showbackground": true,
            "ticks": "",
            "zerolinecolor": "white"
           }
          },
          "shapedefaults": {
           "line": {
            "color": "#2a3f5f"
           }
          },
          "ternary": {
           "aaxis": {
            "gridcolor": "white",
            "linecolor": "white",
            "ticks": ""
           },
           "baxis": {
            "gridcolor": "white",
            "linecolor": "white",
            "ticks": ""
           },
           "bgcolor": "#E5ECF6",
           "caxis": {
            "gridcolor": "white",
            "linecolor": "white",
            "ticks": ""
           }
          },
          "title": {
           "x": 0.05
          },
          "xaxis": {
           "automargin": true,
           "gridcolor": "white",
           "linecolor": "white",
           "ticks": "",
           "title": {
            "standoff": 15
           },
           "zerolinecolor": "white",
           "zerolinewidth": 2
          },
          "yaxis": {
           "automargin": true,
           "gridcolor": "white",
           "linecolor": "white",
           "ticks": "",
           "title": {
            "standoff": 15
           },
           "zerolinecolor": "white",
           "zerolinewidth": 2
          }
         }
        },
        "title": {
         "text": "Total Transaction Amount by Income Category"
        },
        "xaxis": {
         "anchor": "y",
         "domain": [
          0,
          1
         ],
         "title": {
          "text": "Income Category"
         }
        },
        "yaxis": {
         "anchor": "x",
         "domain": [
          0,
          1
         ],
         "title": {
          "text": "Total Trans Amt"
         }
        }
       }
      }
     },
     "metadata": {},
     "output_type": "display_data"
    }
   ],
   "source": [
    "df_grouped = df.groupby(\"Income Category\")[\"Total Trans Amt\"].sum().reset_index()\n",
    "\n",
    "fig = px.bar(\n",
    "    df_grouped,\n",
    "    x=\"Income Category\",\n",
    "    y=\"Total Trans Amt\",\n",
    "    title=\"Total Transaction Amount by Income Category\",\n",
    "    text_auto=True\n",
    ")\n",
    "fig.show()\n"
   ]
  },
  {
   "cell_type": "markdown",
   "id": "99174574",
   "metadata": {},
   "source": [
    "This bar chart shows that the customers in the \"Less than $40k\" income category had the highest total transaction amount with just double over the second highest income category. This indicates that these customers might using their credit to manage expenses more frequently."
   ]
  },
  {
   "cell_type": "markdown",
   "id": "0636e5d7",
   "metadata": {},
   "source": [
    "# Visualisation 4: "
   ]
  },
  {
   "cell_type": "markdown",
   "id": "87f44116",
   "metadata": {},
   "source": [
    "I want to see which card category has the least customer churning."
   ]
  },
  {
   "cell_type": "code",
   "execution_count": 38,
   "id": "3f8e65e2",
   "metadata": {},
   "outputs": [
    {
     "data": {
      "application/vnd.plotly.v1+json": {
       "config": {
        "plotlyServerURL": "https://plot.ly"
       },
       "data": [
        {
         "alignmentgroup": "True",
         "hovertemplate": "Attrition Flag=Attrited Customer<br>Card Category=%{x}<br>Count=%{y}<extra></extra>",
         "legendgroup": "Attrited Customer",
         "marker": {
          "color": "#636efa",
          "pattern": {
           "shape": ""
          }
         },
         "name": "Attrited Customer",
         "offsetgroup": "Attrited Customer",
         "orientation": "v",
         "showlegend": true,
         "textposition": "auto",
         "type": "bar",
         "x": [
          "Blue",
          "Gold",
          "Platinum",
          "Silver"
         ],
         "xaxis": "x",
         "y": {
          "bdata": "7wUVAAUAUgA=",
          "dtype": "i2"
         },
         "yaxis": "y"
        },
        {
         "alignmentgroup": "True",
         "hovertemplate": "Attrition Flag=Existing Customer<br>Card Category=%{x}<br>Count=%{y}<extra></extra>",
         "legendgroup": "Existing Customer",
         "marker": {
          "color": "#EF553B",
          "pattern": {
           "shape": ""
          }
         },
         "name": "Existing Customer",
         "offsetgroup": "Existing Customer",
         "orientation": "v",
         "showlegend": true,
         "textposition": "auto",
         "type": "bar",
         "x": [
          "Blue",
          "Gold",
          "Platinum",
          "Silver"
         ],
         "xaxis": "x",
         "y": {
          "bdata": "7R5fAA8A2QE=",
          "dtype": "i2"
         },
         "yaxis": "y"
        }
       ],
       "layout": {
        "barmode": "group",
        "legend": {
         "title": {
          "text": "Attrition Flag"
         },
         "tracegroupgap": 0
        },
        "template": {
         "data": {
          "bar": [
           {
            "error_x": {
             "color": "#2a3f5f"
            },
            "error_y": {
             "color": "#2a3f5f"
            },
            "marker": {
             "line": {
              "color": "#E5ECF6",
              "width": 0.5
             },
             "pattern": {
              "fillmode": "overlay",
              "size": 10,
              "solidity": 0.2
             }
            },
            "type": "bar"
           }
          ],
          "barpolar": [
           {
            "marker": {
             "line": {
              "color": "#E5ECF6",
              "width": 0.5
             },
             "pattern": {
              "fillmode": "overlay",
              "size": 10,
              "solidity": 0.2
             }
            },
            "type": "barpolar"
           }
          ],
          "carpet": [
           {
            "aaxis": {
             "endlinecolor": "#2a3f5f",
             "gridcolor": "white",
             "linecolor": "white",
             "minorgridcolor": "white",
             "startlinecolor": "#2a3f5f"
            },
            "baxis": {
             "endlinecolor": "#2a3f5f",
             "gridcolor": "white",
             "linecolor": "white",
             "minorgridcolor": "white",
             "startlinecolor": "#2a3f5f"
            },
            "type": "carpet"
           }
          ],
          "choropleth": [
           {
            "colorbar": {
             "outlinewidth": 0,
             "ticks": ""
            },
            "type": "choropleth"
           }
          ],
          "contour": [
           {
            "colorbar": {
             "outlinewidth": 0,
             "ticks": ""
            },
            "colorscale": [
             [
              0,
              "#0d0887"
             ],
             [
              0.1111111111111111,
              "#46039f"
             ],
             [
              0.2222222222222222,
              "#7201a8"
             ],
             [
              0.3333333333333333,
              "#9c179e"
             ],
             [
              0.4444444444444444,
              "#bd3786"
             ],
             [
              0.5555555555555556,
              "#d8576b"
             ],
             [
              0.6666666666666666,
              "#ed7953"
             ],
             [
              0.7777777777777778,
              "#fb9f3a"
             ],
             [
              0.8888888888888888,
              "#fdca26"
             ],
             [
              1,
              "#f0f921"
             ]
            ],
            "type": "contour"
           }
          ],
          "contourcarpet": [
           {
            "colorbar": {
             "outlinewidth": 0,
             "ticks": ""
            },
            "type": "contourcarpet"
           }
          ],
          "heatmap": [
           {
            "colorbar": {
             "outlinewidth": 0,
             "ticks": ""
            },
            "colorscale": [
             [
              0,
              "#0d0887"
             ],
             [
              0.1111111111111111,
              "#46039f"
             ],
             [
              0.2222222222222222,
              "#7201a8"
             ],
             [
              0.3333333333333333,
              "#9c179e"
             ],
             [
              0.4444444444444444,
              "#bd3786"
             ],
             [
              0.5555555555555556,
              "#d8576b"
             ],
             [
              0.6666666666666666,
              "#ed7953"
             ],
             [
              0.7777777777777778,
              "#fb9f3a"
             ],
             [
              0.8888888888888888,
              "#fdca26"
             ],
             [
              1,
              "#f0f921"
             ]
            ],
            "type": "heatmap"
           }
          ],
          "histogram": [
           {
            "marker": {
             "pattern": {
              "fillmode": "overlay",
              "size": 10,
              "solidity": 0.2
             }
            },
            "type": "histogram"
           }
          ],
          "histogram2d": [
           {
            "colorbar": {
             "outlinewidth": 0,
             "ticks": ""
            },
            "colorscale": [
             [
              0,
              "#0d0887"
             ],
             [
              0.1111111111111111,
              "#46039f"
             ],
             [
              0.2222222222222222,
              "#7201a8"
             ],
             [
              0.3333333333333333,
              "#9c179e"
             ],
             [
              0.4444444444444444,
              "#bd3786"
             ],
             [
              0.5555555555555556,
              "#d8576b"
             ],
             [
              0.6666666666666666,
              "#ed7953"
             ],
             [
              0.7777777777777778,
              "#fb9f3a"
             ],
             [
              0.8888888888888888,
              "#fdca26"
             ],
             [
              1,
              "#f0f921"
             ]
            ],
            "type": "histogram2d"
           }
          ],
          "histogram2dcontour": [
           {
            "colorbar": {
             "outlinewidth": 0,
             "ticks": ""
            },
            "colorscale": [
             [
              0,
              "#0d0887"
             ],
             [
              0.1111111111111111,
              "#46039f"
             ],
             [
              0.2222222222222222,
              "#7201a8"
             ],
             [
              0.3333333333333333,
              "#9c179e"
             ],
             [
              0.4444444444444444,
              "#bd3786"
             ],
             [
              0.5555555555555556,
              "#d8576b"
             ],
             [
              0.6666666666666666,
              "#ed7953"
             ],
             [
              0.7777777777777778,
              "#fb9f3a"
             ],
             [
              0.8888888888888888,
              "#fdca26"
             ],
             [
              1,
              "#f0f921"
             ]
            ],
            "type": "histogram2dcontour"
           }
          ],
          "mesh3d": [
           {
            "colorbar": {
             "outlinewidth": 0,
             "ticks": ""
            },
            "type": "mesh3d"
           }
          ],
          "parcoords": [
           {
            "line": {
             "colorbar": {
              "outlinewidth": 0,
              "ticks": ""
             }
            },
            "type": "parcoords"
           }
          ],
          "pie": [
           {
            "automargin": true,
            "type": "pie"
           }
          ],
          "scatter": [
           {
            "fillpattern": {
             "fillmode": "overlay",
             "size": 10,
             "solidity": 0.2
            },
            "type": "scatter"
           }
          ],
          "scatter3d": [
           {
            "line": {
             "colorbar": {
              "outlinewidth": 0,
              "ticks": ""
             }
            },
            "marker": {
             "colorbar": {
              "outlinewidth": 0,
              "ticks": ""
             }
            },
            "type": "scatter3d"
           }
          ],
          "scattercarpet": [
           {
            "marker": {
             "colorbar": {
              "outlinewidth": 0,
              "ticks": ""
             }
            },
            "type": "scattercarpet"
           }
          ],
          "scattergeo": [
           {
            "marker": {
             "colorbar": {
              "outlinewidth": 0,
              "ticks": ""
             }
            },
            "type": "scattergeo"
           }
          ],
          "scattergl": [
           {
            "marker": {
             "colorbar": {
              "outlinewidth": 0,
              "ticks": ""
             }
            },
            "type": "scattergl"
           }
          ],
          "scattermap": [
           {
            "marker": {
             "colorbar": {
              "outlinewidth": 0,
              "ticks": ""
             }
            },
            "type": "scattermap"
           }
          ],
          "scattermapbox": [
           {
            "marker": {
             "colorbar": {
              "outlinewidth": 0,
              "ticks": ""
             }
            },
            "type": "scattermapbox"
           }
          ],
          "scatterpolar": [
           {
            "marker": {
             "colorbar": {
              "outlinewidth": 0,
              "ticks": ""
             }
            },
            "type": "scatterpolar"
           }
          ],
          "scatterpolargl": [
           {
            "marker": {
             "colorbar": {
              "outlinewidth": 0,
              "ticks": ""
             }
            },
            "type": "scatterpolargl"
           }
          ],
          "scatterternary": [
           {
            "marker": {
             "colorbar": {
              "outlinewidth": 0,
              "ticks": ""
             }
            },
            "type": "scatterternary"
           }
          ],
          "surface": [
           {
            "colorbar": {
             "outlinewidth": 0,
             "ticks": ""
            },
            "colorscale": [
             [
              0,
              "#0d0887"
             ],
             [
              0.1111111111111111,
              "#46039f"
             ],
             [
              0.2222222222222222,
              "#7201a8"
             ],
             [
              0.3333333333333333,
              "#9c179e"
             ],
             [
              0.4444444444444444,
              "#bd3786"
             ],
             [
              0.5555555555555556,
              "#d8576b"
             ],
             [
              0.6666666666666666,
              "#ed7953"
             ],
             [
              0.7777777777777778,
              "#fb9f3a"
             ],
             [
              0.8888888888888888,
              "#fdca26"
             ],
             [
              1,
              "#f0f921"
             ]
            ],
            "type": "surface"
           }
          ],
          "table": [
           {
            "cells": {
             "fill": {
              "color": "#EBF0F8"
             },
             "line": {
              "color": "white"
             }
            },
            "header": {
             "fill": {
              "color": "#C8D4E3"
             },
             "line": {
              "color": "white"
             }
            },
            "type": "table"
           }
          ]
         },
         "layout": {
          "annotationdefaults": {
           "arrowcolor": "#2a3f5f",
           "arrowhead": 0,
           "arrowwidth": 1
          },
          "autotypenumbers": "strict",
          "coloraxis": {
           "colorbar": {
            "outlinewidth": 0,
            "ticks": ""
           }
          },
          "colorscale": {
           "diverging": [
            [
             0,
             "#8e0152"
            ],
            [
             0.1,
             "#c51b7d"
            ],
            [
             0.2,
             "#de77ae"
            ],
            [
             0.3,
             "#f1b6da"
            ],
            [
             0.4,
             "#fde0ef"
            ],
            [
             0.5,
             "#f7f7f7"
            ],
            [
             0.6,
             "#e6f5d0"
            ],
            [
             0.7,
             "#b8e186"
            ],
            [
             0.8,
             "#7fbc41"
            ],
            [
             0.9,
             "#4d9221"
            ],
            [
             1,
             "#276419"
            ]
           ],
           "sequential": [
            [
             0,
             "#0d0887"
            ],
            [
             0.1111111111111111,
             "#46039f"
            ],
            [
             0.2222222222222222,
             "#7201a8"
            ],
            [
             0.3333333333333333,
             "#9c179e"
            ],
            [
             0.4444444444444444,
             "#bd3786"
            ],
            [
             0.5555555555555556,
             "#d8576b"
            ],
            [
             0.6666666666666666,
             "#ed7953"
            ],
            [
             0.7777777777777778,
             "#fb9f3a"
            ],
            [
             0.8888888888888888,
             "#fdca26"
            ],
            [
             1,
             "#f0f921"
            ]
           ],
           "sequentialminus": [
            [
             0,
             "#0d0887"
            ],
            [
             0.1111111111111111,
             "#46039f"
            ],
            [
             0.2222222222222222,
             "#7201a8"
            ],
            [
             0.3333333333333333,
             "#9c179e"
            ],
            [
             0.4444444444444444,
             "#bd3786"
            ],
            [
             0.5555555555555556,
             "#d8576b"
            ],
            [
             0.6666666666666666,
             "#ed7953"
            ],
            [
             0.7777777777777778,
             "#fb9f3a"
            ],
            [
             0.8888888888888888,
             "#fdca26"
            ],
            [
             1,
             "#f0f921"
            ]
           ]
          },
          "colorway": [
           "#636efa",
           "#EF553B",
           "#00cc96",
           "#ab63fa",
           "#FFA15A",
           "#19d3f3",
           "#FF6692",
           "#B6E880",
           "#FF97FF",
           "#FECB52"
          ],
          "font": {
           "color": "#2a3f5f"
          },
          "geo": {
           "bgcolor": "white",
           "lakecolor": "white",
           "landcolor": "#E5ECF6",
           "showlakes": true,
           "showland": true,
           "subunitcolor": "white"
          },
          "hoverlabel": {
           "align": "left"
          },
          "hovermode": "closest",
          "mapbox": {
           "style": "light"
          },
          "paper_bgcolor": "white",
          "plot_bgcolor": "#E5ECF6",
          "polar": {
           "angularaxis": {
            "gridcolor": "white",
            "linecolor": "white",
            "ticks": ""
           },
           "bgcolor": "#E5ECF6",
           "radialaxis": {
            "gridcolor": "white",
            "linecolor": "white",
            "ticks": ""
           }
          },
          "scene": {
           "xaxis": {
            "backgroundcolor": "#E5ECF6",
            "gridcolor": "white",
            "gridwidth": 2,
            "linecolor": "white",
            "showbackground": true,
            "ticks": "",
            "zerolinecolor": "white"
           },
           "yaxis": {
            "backgroundcolor": "#E5ECF6",
            "gridcolor": "white",
            "gridwidth": 2,
            "linecolor": "white",
            "showbackground": true,
            "ticks": "",
            "zerolinecolor": "white"
           },
           "zaxis": {
            "backgroundcolor": "#E5ECF6",
            "gridcolor": "white",
            "gridwidth": 2,
            "linecolor": "white",
            "showbackground": true,
            "ticks": "",
            "zerolinecolor": "white"
           }
          },
          "shapedefaults": {
           "line": {
            "color": "#2a3f5f"
           }
          },
          "ternary": {
           "aaxis": {
            "gridcolor": "white",
            "linecolor": "white",
            "ticks": ""
           },
           "baxis": {
            "gridcolor": "white",
            "linecolor": "white",
            "ticks": ""
           },
           "bgcolor": "#E5ECF6",
           "caxis": {
            "gridcolor": "white",
            "linecolor": "white",
            "ticks": ""
           }
          },
          "title": {
           "x": 0.05
          },
          "xaxis": {
           "automargin": true,
           "gridcolor": "white",
           "linecolor": "white",
           "ticks": "",
           "title": {
            "standoff": 15
           },
           "zerolinecolor": "white",
           "zerolinewidth": 2
          },
          "yaxis": {
           "automargin": true,
           "gridcolor": "white",
           "linecolor": "white",
           "ticks": "",
           "title": {
            "standoff": 15
           },
           "zerolinecolor": "white",
           "zerolinewidth": 2
          }
         }
        },
        "title": {
         "text": "Customer Retention by Card Category"
        },
        "xaxis": {
         "anchor": "y",
         "domain": [
          0,
          1
         ],
         "title": {
          "text": "Card Category"
         }
        },
        "yaxis": {
         "anchor": "x",
         "domain": [
          0,
          1
         ],
         "title": {
          "text": "Count"
         }
        }
       }
      }
     },
     "metadata": {},
     "output_type": "display_data"
    }
   ],
   "source": [
    "df_grouped = df.groupby([\"Card Category\", \"Attrition Flag\"]).size().reset_index(name=\"Count\")\n",
    "px.bar(df_grouped, x=\"Card Category\", y=\"Count\", color=\"Attrition Flag\", barmode=\"group\",\n",
    "       title=\"Customer Retention by Card Category\")\n"
   ]
  },
  {
   "cell_type": "markdown",
   "id": "b26d7b37",
   "metadata": {},
   "source": [
    "The Blue cards has the most overall customers, especially with exisiting customers. Silver cards shows existing customers slightly than attrited. Gold and Platinum cards have very few customers with minimal retention or churn. "
   ]
  },
  {
   "cell_type": "markdown",
   "id": "a21e7b21",
   "metadata": {},
   "source": [
    "# Visualisation 5: "
   ]
  },
  {
   "cell_type": "markdown",
   "id": "96d6f57d",
   "metadata": {},
   "source": [
    "Building on the previous visualisation I want to see the percentage of customer rentention by card category. "
   ]
  },
  {
   "cell_type": "code",
   "execution_count": 42,
   "id": "9ec40693",
   "metadata": {},
   "outputs": [
    {
     "data": {
      "application/vnd.plotly.v1+json": {
       "config": {
        "plotlyServerURL": "https://plot.ly"
       },
       "data": [
        {
         "hovertemplate": "Card Category=%{x}<br>Retention Rate=%{marker.color}<extra></extra>",
         "legendgroup": "",
         "marker": {
          "color": {
           "bdata": "Dt3Nobv5VEASlnsaYXlUQAAAAAAAwFJA5iQQF2pOVUA=",
           "dtype": "f8"
          },
          "coloraxis": "coloraxis",
          "pattern": {
           "shape": ""
          }
         },
         "name": "",
         "orientation": "v",
         "showlegend": false,
         "textposition": "auto",
         "texttemplate": "%{y}",
         "type": "bar",
         "x": [
          "Blue",
          "Gold",
          "Platinum",
          "Silver"
         ],
         "xaxis": "x",
         "y": {
          "bdata": "Dt3Nobv5VEASlnsaYXlUQAAAAAAAwFJA5iQQF2pOVUA=",
          "dtype": "f8"
         },
         "yaxis": "y"
        }
       ],
       "layout": {
        "barmode": "relative",
        "coloraxis": {
         "colorbar": {
          "title": {
           "text": "Retention Rate"
          }
         },
         "colorscale": [
          [
           0,
           "rgb(247,251,255)"
          ],
          [
           0.125,
           "rgb(222,235,247)"
          ],
          [
           0.25,
           "rgb(198,219,239)"
          ],
          [
           0.375,
           "rgb(158,202,225)"
          ],
          [
           0.5,
           "rgb(107,174,214)"
          ],
          [
           0.625,
           "rgb(66,146,198)"
          ],
          [
           0.75,
           "rgb(33,113,181)"
          ],
          [
           0.875,
           "rgb(8,81,156)"
          ],
          [
           1,
           "rgb(8,48,107)"
          ]
         ]
        },
        "legend": {
         "tracegroupgap": 0
        },
        "template": {
         "data": {
          "bar": [
           {
            "error_x": {
             "color": "#2a3f5f"
            },
            "error_y": {
             "color": "#2a3f5f"
            },
            "marker": {
             "line": {
              "color": "#E5ECF6",
              "width": 0.5
             },
             "pattern": {
              "fillmode": "overlay",
              "size": 10,
              "solidity": 0.2
             }
            },
            "type": "bar"
           }
          ],
          "barpolar": [
           {
            "marker": {
             "line": {
              "color": "#E5ECF6",
              "width": 0.5
             },
             "pattern": {
              "fillmode": "overlay",
              "size": 10,
              "solidity": 0.2
             }
            },
            "type": "barpolar"
           }
          ],
          "carpet": [
           {
            "aaxis": {
             "endlinecolor": "#2a3f5f",
             "gridcolor": "white",
             "linecolor": "white",
             "minorgridcolor": "white",
             "startlinecolor": "#2a3f5f"
            },
            "baxis": {
             "endlinecolor": "#2a3f5f",
             "gridcolor": "white",
             "linecolor": "white",
             "minorgridcolor": "white",
             "startlinecolor": "#2a3f5f"
            },
            "type": "carpet"
           }
          ],
          "choropleth": [
           {
            "colorbar": {
             "outlinewidth": 0,
             "ticks": ""
            },
            "type": "choropleth"
           }
          ],
          "contour": [
           {
            "colorbar": {
             "outlinewidth": 0,
             "ticks": ""
            },
            "colorscale": [
             [
              0,
              "#0d0887"
             ],
             [
              0.1111111111111111,
              "#46039f"
             ],
             [
              0.2222222222222222,
              "#7201a8"
             ],
             [
              0.3333333333333333,
              "#9c179e"
             ],
             [
              0.4444444444444444,
              "#bd3786"
             ],
             [
              0.5555555555555556,
              "#d8576b"
             ],
             [
              0.6666666666666666,
              "#ed7953"
             ],
             [
              0.7777777777777778,
              "#fb9f3a"
             ],
             [
              0.8888888888888888,
              "#fdca26"
             ],
             [
              1,
              "#f0f921"
             ]
            ],
            "type": "contour"
           }
          ],
          "contourcarpet": [
           {
            "colorbar": {
             "outlinewidth": 0,
             "ticks": ""
            },
            "type": "contourcarpet"
           }
          ],
          "heatmap": [
           {
            "colorbar": {
             "outlinewidth": 0,
             "ticks": ""
            },
            "colorscale": [
             [
              0,
              "#0d0887"
             ],
             [
              0.1111111111111111,
              "#46039f"
             ],
             [
              0.2222222222222222,
              "#7201a8"
             ],
             [
              0.3333333333333333,
              "#9c179e"
             ],
             [
              0.4444444444444444,
              "#bd3786"
             ],
             [
              0.5555555555555556,
              "#d8576b"
             ],
             [
              0.6666666666666666,
              "#ed7953"
             ],
             [
              0.7777777777777778,
              "#fb9f3a"
             ],
             [
              0.8888888888888888,
              "#fdca26"
             ],
             [
              1,
              "#f0f921"
             ]
            ],
            "type": "heatmap"
           }
          ],
          "histogram": [
           {
            "marker": {
             "pattern": {
              "fillmode": "overlay",
              "size": 10,
              "solidity": 0.2
             }
            },
            "type": "histogram"
           }
          ],
          "histogram2d": [
           {
            "colorbar": {
             "outlinewidth": 0,
             "ticks": ""
            },
            "colorscale": [
             [
              0,
              "#0d0887"
             ],
             [
              0.1111111111111111,
              "#46039f"
             ],
             [
              0.2222222222222222,
              "#7201a8"
             ],
             [
              0.3333333333333333,
              "#9c179e"
             ],
             [
              0.4444444444444444,
              "#bd3786"
             ],
             [
              0.5555555555555556,
              "#d8576b"
             ],
             [
              0.6666666666666666,
              "#ed7953"
             ],
             [
              0.7777777777777778,
              "#fb9f3a"
             ],
             [
              0.8888888888888888,
              "#fdca26"
             ],
             [
              1,
              "#f0f921"
             ]
            ],
            "type": "histogram2d"
           }
          ],
          "histogram2dcontour": [
           {
            "colorbar": {
             "outlinewidth": 0,
             "ticks": ""
            },
            "colorscale": [
             [
              0,
              "#0d0887"
             ],
             [
              0.1111111111111111,
              "#46039f"
             ],
             [
              0.2222222222222222,
              "#7201a8"
             ],
             [
              0.3333333333333333,
              "#9c179e"
             ],
             [
              0.4444444444444444,
              "#bd3786"
             ],
             [
              0.5555555555555556,
              "#d8576b"
             ],
             [
              0.6666666666666666,
              "#ed7953"
             ],
             [
              0.7777777777777778,
              "#fb9f3a"
             ],
             [
              0.8888888888888888,
              "#fdca26"
             ],
             [
              1,
              "#f0f921"
             ]
            ],
            "type": "histogram2dcontour"
           }
          ],
          "mesh3d": [
           {
            "colorbar": {
             "outlinewidth": 0,
             "ticks": ""
            },
            "type": "mesh3d"
           }
          ],
          "parcoords": [
           {
            "line": {
             "colorbar": {
              "outlinewidth": 0,
              "ticks": ""
             }
            },
            "type": "parcoords"
           }
          ],
          "pie": [
           {
            "automargin": true,
            "type": "pie"
           }
          ],
          "scatter": [
           {
            "fillpattern": {
             "fillmode": "overlay",
             "size": 10,
             "solidity": 0.2
            },
            "type": "scatter"
           }
          ],
          "scatter3d": [
           {
            "line": {
             "colorbar": {
              "outlinewidth": 0,
              "ticks": ""
             }
            },
            "marker": {
             "colorbar": {
              "outlinewidth": 0,
              "ticks": ""
             }
            },
            "type": "scatter3d"
           }
          ],
          "scattercarpet": [
           {
            "marker": {
             "colorbar": {
              "outlinewidth": 0,
              "ticks": ""
             }
            },
            "type": "scattercarpet"
           }
          ],
          "scattergeo": [
           {
            "marker": {
             "colorbar": {
              "outlinewidth": 0,
              "ticks": ""
             }
            },
            "type": "scattergeo"
           }
          ],
          "scattergl": [
           {
            "marker": {
             "colorbar": {
              "outlinewidth": 0,
              "ticks": ""
             }
            },
            "type": "scattergl"
           }
          ],
          "scattermap": [
           {
            "marker": {
             "colorbar": {
              "outlinewidth": 0,
              "ticks": ""
             }
            },
            "type": "scattermap"
           }
          ],
          "scattermapbox": [
           {
            "marker": {
             "colorbar": {
              "outlinewidth": 0,
              "ticks": ""
             }
            },
            "type": "scattermapbox"
           }
          ],
          "scatterpolar": [
           {
            "marker": {
             "colorbar": {
              "outlinewidth": 0,
              "ticks": ""
             }
            },
            "type": "scatterpolar"
           }
          ],
          "scatterpolargl": [
           {
            "marker": {
             "colorbar": {
              "outlinewidth": 0,
              "ticks": ""
             }
            },
            "type": "scatterpolargl"
           }
          ],
          "scatterternary": [
           {
            "marker": {
             "colorbar": {
              "outlinewidth": 0,
              "ticks": ""
             }
            },
            "type": "scatterternary"
           }
          ],
          "surface": [
           {
            "colorbar": {
             "outlinewidth": 0,
             "ticks": ""
            },
            "colorscale": [
             [
              0,
              "#0d0887"
             ],
             [
              0.1111111111111111,
              "#46039f"
             ],
             [
              0.2222222222222222,
              "#7201a8"
             ],
             [
              0.3333333333333333,
              "#9c179e"
             ],
             [
              0.4444444444444444,
              "#bd3786"
             ],
             [
              0.5555555555555556,
              "#d8576b"
             ],
             [
              0.6666666666666666,
              "#ed7953"
             ],
             [
              0.7777777777777778,
              "#fb9f3a"
             ],
             [
              0.8888888888888888,
              "#fdca26"
             ],
             [
              1,
              "#f0f921"
             ]
            ],
            "type": "surface"
           }
          ],
          "table": [
           {
            "cells": {
             "fill": {
              "color": "#EBF0F8"
             },
             "line": {
              "color": "white"
             }
            },
            "header": {
             "fill": {
              "color": "#C8D4E3"
             },
             "line": {
              "color": "white"
             }
            },
            "type": "table"
           }
          ]
         },
         "layout": {
          "annotationdefaults": {
           "arrowcolor": "#2a3f5f",
           "arrowhead": 0,
           "arrowwidth": 1
          },
          "autotypenumbers": "strict",
          "coloraxis": {
           "colorbar": {
            "outlinewidth": 0,
            "ticks": ""
           }
          },
          "colorscale": {
           "diverging": [
            [
             0,
             "#8e0152"
            ],
            [
             0.1,
             "#c51b7d"
            ],
            [
             0.2,
             "#de77ae"
            ],
            [
             0.3,
             "#f1b6da"
            ],
            [
             0.4,
             "#fde0ef"
            ],
            [
             0.5,
             "#f7f7f7"
            ],
            [
             0.6,
             "#e6f5d0"
            ],
            [
             0.7,
             "#b8e186"
            ],
            [
             0.8,
             "#7fbc41"
            ],
            [
             0.9,
             "#4d9221"
            ],
            [
             1,
             "#276419"
            ]
           ],
           "sequential": [
            [
             0,
             "#0d0887"
            ],
            [
             0.1111111111111111,
             "#46039f"
            ],
            [
             0.2222222222222222,
             "#7201a8"
            ],
            [
             0.3333333333333333,
             "#9c179e"
            ],
            [
             0.4444444444444444,
             "#bd3786"
            ],
            [
             0.5555555555555556,
             "#d8576b"
            ],
            [
             0.6666666666666666,
             "#ed7953"
            ],
            [
             0.7777777777777778,
             "#fb9f3a"
            ],
            [
             0.8888888888888888,
             "#fdca26"
            ],
            [
             1,
             "#f0f921"
            ]
           ],
           "sequentialminus": [
            [
             0,
             "#0d0887"
            ],
            [
             0.1111111111111111,
             "#46039f"
            ],
            [
             0.2222222222222222,
             "#7201a8"
            ],
            [
             0.3333333333333333,
             "#9c179e"
            ],
            [
             0.4444444444444444,
             "#bd3786"
            ],
            [
             0.5555555555555556,
             "#d8576b"
            ],
            [
             0.6666666666666666,
             "#ed7953"
            ],
            [
             0.7777777777777778,
             "#fb9f3a"
            ],
            [
             0.8888888888888888,
             "#fdca26"
            ],
            [
             1,
             "#f0f921"
            ]
           ]
          },
          "colorway": [
           "#636efa",
           "#EF553B",
           "#00cc96",
           "#ab63fa",
           "#FFA15A",
           "#19d3f3",
           "#FF6692",
           "#B6E880",
           "#FF97FF",
           "#FECB52"
          ],
          "font": {
           "color": "#2a3f5f"
          },
          "geo": {
           "bgcolor": "white",
           "lakecolor": "white",
           "landcolor": "#E5ECF6",
           "showlakes": true,
           "showland": true,
           "subunitcolor": "white"
          },
          "hoverlabel": {
           "align": "left"
          },
          "hovermode": "closest",
          "mapbox": {
           "style": "light"
          },
          "paper_bgcolor": "white",
          "plot_bgcolor": "#E5ECF6",
          "polar": {
           "angularaxis": {
            "gridcolor": "white",
            "linecolor": "white",
            "ticks": ""
           },
           "bgcolor": "#E5ECF6",
           "radialaxis": {
            "gridcolor": "white",
            "linecolor": "white",
            "ticks": ""
           }
          },
          "scene": {
           "xaxis": {
            "backgroundcolor": "#E5ECF6",
            "gridcolor": "white",
            "gridwidth": 2,
            "linecolor": "white",
            "showbackground": true,
            "ticks": "",
            "zerolinecolor": "white"
           },
           "yaxis": {
            "backgroundcolor": "#E5ECF6",
            "gridcolor": "white",
            "gridwidth": 2,
            "linecolor": "white",
            "showbackground": true,
            "ticks": "",
            "zerolinecolor": "white"
           },
           "zaxis": {
            "backgroundcolor": "#E5ECF6",
            "gridcolor": "white",
            "gridwidth": 2,
            "linecolor": "white",
            "showbackground": true,
            "ticks": "",
            "zerolinecolor": "white"
           }
          },
          "shapedefaults": {
           "line": {
            "color": "#2a3f5f"
           }
          },
          "ternary": {
           "aaxis": {
            "gridcolor": "white",
            "linecolor": "white",
            "ticks": ""
           },
           "baxis": {
            "gridcolor": "white",
            "linecolor": "white",
            "ticks": ""
           },
           "bgcolor": "#E5ECF6",
           "caxis": {
            "gridcolor": "white",
            "linecolor": "white",
            "ticks": ""
           }
          },
          "title": {
           "x": 0.05
          },
          "xaxis": {
           "automargin": true,
           "gridcolor": "white",
           "linecolor": "white",
           "ticks": "",
           "title": {
            "standoff": 15
           },
           "zerolinecolor": "white",
           "zerolinewidth": 2
          },
          "yaxis": {
           "automargin": true,
           "gridcolor": "white",
           "linecolor": "white",
           "ticks": "",
           "title": {
            "standoff": 15
           },
           "zerolinecolor": "white",
           "zerolinewidth": 2
          }
         }
        },
        "title": {
         "text": "Retention Rate by Card Category"
        },
        "xaxis": {
         "anchor": "y",
         "domain": [
          0,
          1
         ],
         "title": {
          "text": "Card Category"
         }
        },
        "yaxis": {
         "anchor": "x",
         "domain": [
          0,
          1
         ],
         "title": {
          "text": "Retention Rate"
         }
        }
       }
      }
     },
     "metadata": {},
     "output_type": "display_data"
    }
   ],
   "source": [
    "fig = px.bar(\n",
    "    retention_rate,\n",
    "    x=\"Card Category\",\n",
    "    y=\"Retention Rate\",\n",
    "    title=\"Retention Rate by Card Category\",\n",
    "    text_auto=True,\n",
    "    color=\"Retention Rate\",\n",
    "    color_continuous_scale=\"Blues\"\n",
    ")\n",
    "fig.show()\n"
   ]
  },
  {
   "cell_type": "markdown",
   "id": "672c58c9",
   "metadata": {},
   "source": [
    "This bar chart shows the percentage of customers retained for each card type to compare performance. "
   ]
  }
 ],
 "metadata": {
  "kernelspec": {
   "display_name": "Python 3",
   "language": "python",
   "name": "python3"
  },
  "language_info": {
   "codemirror_mode": {
    "name": "ipython",
    "version": 3
   },
   "file_extension": ".py",
   "mimetype": "text/x-python",
   "name": "python",
   "nbconvert_exporter": "python",
   "pygments_lexer": "ipython3",
   "version": "3.12.8"
  }
 },
 "nbformat": 4,
 "nbformat_minor": 5
}
